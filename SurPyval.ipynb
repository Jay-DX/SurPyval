{
 "cells": [
  {
   "cell_type": "markdown",
   "metadata": {},
   "source": [
    "# SurPyval\n",
    "\n",
    "This notbook shows some of the uses of the surpyval package.\n",
    "\n",
    "First step is non parametric survival analysis"
   ]
  },
  {
   "cell_type": "code",
   "execution_count": 1,
   "metadata": {},
   "outputs": [],
   "source": [
    "import nonparametric as nonp\n",
    "import numpy as np"
   ]
  },
  {
   "cell_type": "code",
   "execution_count": 2,
   "metadata": {},
   "outputs": [],
   "source": [
    "from matplotlib import pyplot as plt\n",
    "%matplotlib inline"
   ]
  },
  {
   "cell_type": "code",
   "execution_count": 19,
   "metadata": {},
   "outputs": [
    {
     "data": {
      "text/plain": [
       "array([98. , 98.5, 99. , 99.5])"
      ]
     },
     "execution_count": 19,
     "metadata": {},
     "output_type": "execute_result"
    }
   ],
   "source": [
    "np.arange(98, 99.999, .5)"
   ]
  },
  {
   "cell_type": "code",
   "execution_count": 32,
   "metadata": {},
   "outputs": [
    {
     "data": {
      "image/png": "[encoded data removed]",
      "text/plain": [
       "<Figure size 432x288 with 1 Axes>"
      ]
     },
     "metadata": {},
     "output_type": "display_data"
    }
   ],
   "source": [
    "\n",
    "from __future__ import unicode_literals\n",
    "\n",
    "import numpy as np\n",
    "from scipy.stats.distributions import weibull_min\n",
    "from scipy.stats.mstats import plotting_positions as pp\n",
    "from numpy import ma\n",
    "from matplotlib import scale as mscale\n",
    "from matplotlib import transforms as mtransforms\n",
    "from matplotlib.ticker import Formatter, FixedLocator, AutoLocator, LinearLocator\n",
    "from matplotlib import rcParams\n",
    "\n",
    "import numpy as np\n",
    "from matplotlib import scale as mscale\n",
    "from matplotlib import transforms as mtransforms\n",
    "from matplotlib.ticker import FormatStrFormatter, FixedLocator\n",
    "from scipy.stats import norm\n",
    "\n",
    "\n",
    "# BUG: this example fails with any other setting of axisbelow\n",
    "rcParams['axes.axisbelow'] = False\n",
    "\n",
    "class WeibullScale(mscale.ScaleBase):\n",
    "    \"\"\"\n",
    "    Scales data in range 0 to 100 using a non-standard log transform\n",
    "    This scale attempts to replicate \"probability paper\" scaling\n",
    "\n",
    "    The scale function:\n",
    "        A piecewise combination of exponential, linear, and logarithmic scales\n",
    "\n",
    "    The inverse scale function:\n",
    "      piecewise combination of exponential, linear, and logarithmic scales\n",
    "\n",
    "    Since probabilities at 0 and 100 are not represented,\n",
    "    there is user-defined upper and lower limit, above and below which nothing\n",
    "    will be plotted.  This defaults to .1 and 99 for lower and upper, respectively.\n",
    "\n",
    "    \"\"\"\n",
    "\n",
    "    # The scale class must have a member ``name`` that defines the\n",
    "    # string used to select the scale.  For example,\n",
    "    # ``gca().set_yscale(\"mercator\")`` would be used to select this\n",
    "    # scale.\n",
    "    name = 'weibull'\n",
    "\n",
    "    def __init__(self, axis, **kwargs):\n",
    "        \"\"\"\n",
    "        Any keyword arguments passed to ``set_xscale`` and\n",
    "        ``set_yscale`` will be passed along to the scale's\n",
    "        constructor.\n",
    "\n",
    "        upper: The probability above which to crop the data.\n",
    "        lower: The probability below which to crop the data.\n",
    "        \"\"\"\n",
    "        mscale.ScaleBase.__init__(self)\n",
    "        upper = kwargs.pop(\"upper\", 0.999999) \n",
    "        lower = kwargs.pop(\"lower\", 1e-5)\n",
    "        \n",
    "        if upper <= 0 or upper >= 1:\n",
    "            raise ValueError(\"upper must be between 0 and 1.\")\n",
    "        if lower <= 0 or lower >= 1:\n",
    "            raise ValueError(\"lower must be between 0 and 1.\")\n",
    "        if lower >= upper:\n",
    "            raise ValueError(\"lower must be strictly less than upper!.\")\n",
    "        self.lower = lower\n",
    "        self.upper = upper\n",
    "\n",
    "        #This scale is best described by the CDF of the normal distribution\n",
    "        #This distribution is paramaterized by mu and sigma, these default vaules\n",
    "        #are provided to work generally well, but can be adjusted by the user if desired\n",
    "        #Need to enfore the upper and lower limits on the axes initially\n",
    "        axis.axes.set_ylim(lower, upper)\n",
    "\n",
    "    def get_transform(self):\n",
    "        \"\"\"\n",
    "        Override this method to return a new instance that does the\n",
    "        actual transformation of the data.\n",
    "\n",
    "        The ProbTransform class is defined below as a\n",
    "        nested class of this one.\n",
    "        \"\"\"\n",
    "        return self.WeibullTransform()\n",
    "\n",
    "    def set_default_locators_and_formatters(self, axis):\n",
    "        \"\"\"\n",
    "        Override to set up the locators and formatters to use with the\n",
    "        scale.  This is only required if the scale requires custom\n",
    "        locators and formatters.  Writing custom locators and\n",
    "        formatters: many helpful examples in ``ticker.py``.\n",
    "\n",
    "        In this case, the prob_scale uses a fixed locator from\n",
    "        0.1 to 99 % and a custom no formatter class\n",
    "\n",
    "        This builds both the major and minor locators, and cuts off any values\n",
    "        above or below the user defined thresholds: upper, lower\n",
    "        \"\"\"\n",
    "        major_ticks = np.asarray([0.001, 0.01, .2,1,2,5,10,20,30,\n",
    "                                  50,70,90,98,99.9])/100\n",
    "        major_ticks = major_ticks[np.where((major_ticks >= self.lower) & \n",
    "                                           (major_ticks <= self.upper))]\n",
    "\n",
    "        minor_ticks = np.concatenate([np.arange(.02, .1, .01),\n",
    "                                      np.arange(.2, 1, .1),\n",
    "                                      np.arange(1, 2, .2), \n",
    "                                      np.arange(2, 20,1), \n",
    "                                      np.arange(20, 80, 2), \n",
    "                                      np.arange(80, 98, 1),\n",
    "                                      np.arange(98, 99.999, .5)] )/100\n",
    "        minor_ticks = minor_ticks[np.where((minor_ticks >= self.lower) & \n",
    "                                          (minor_ticks <= self.upper))]\n",
    "        axis.set_major_locator(FixedLocator(major_ticks))\n",
    "        axis.set_minor_locator(FixedLocator(minor_ticks))\n",
    "        \n",
    "\n",
    "    def limit_range_for_scale(self, vmin, vmax, minpos):\n",
    "        \"\"\"\n",
    "        Override to limit the bounds of the axis to the domain of the\n",
    "        transform.\n",
    "        \"\"\"\n",
    "        print(vmin, vmax)\n",
    "        return vmin, vmax\n",
    "\n",
    "    class WeibullTransform(mtransforms.Transform):\n",
    "        # There are two value members that must be defined.\n",
    "        # ``input_dims`` and ``output_dims`` specify number of input\n",
    "        # dimensions and output dimensions to the transformation.\n",
    "        # These are used by the transformation framework to do some\n",
    "        # error checking and prevent incompatible transformations from\n",
    "        # being connected together.  When defining transforms for a\n",
    "        # scale, which are, by definition, separable and have only one\n",
    "        # dimension, these members should always be set to 1.\n",
    "        input_dims = 1\n",
    "        output_dims = 1\n",
    "        is_separable = True\n",
    "\n",
    "        def __init__(self):\n",
    "            mtransforms.Transform.__init__(self)\n",
    "            \n",
    "\n",
    "        def transform_non_affine(self, x):\n",
    "            \"\"\"\n",
    "            This transform takes an Nx1 ``numpy`` array and returns a\n",
    "            transformed copy.  Since the range of the Probability scale\n",
    "            is limited by the user-specified threshold, the input\n",
    "            array must be masked to contain only valid values.\n",
    "            ``matplotlib`` will handle masked arrays and remove the\n",
    "            out-of-range data from the plot.  Importantly, the\n",
    "            ``transform`` method *must* return an array that is the\n",
    "            same shape as the input array, since these values need to\n",
    "            remain synchronized with values in the other dimension.\n",
    "            \"\"\"\n",
    "\n",
    "            #Get the CDF of the normal distribution located at mu and scaled by sigma\n",
    "            #Multiply these by 100 to put it into a percent scale\n",
    "            \n",
    "            mask = (x <= 0.0) | (x >= 1.0)\n",
    "            if mask.any():\n",
    "                x = np.where(mask, np.nan, x)\n",
    "            return np.log(np.log(1/(1 - x)))\n",
    "\n",
    "        def inverted(self):\n",
    "            \"\"\"\n",
    "            Override this method so matplotlib knows how to get the\n",
    "            inverse transform for this transform.\n",
    "            \"\"\"\n",
    "            return WeibullScale.InvertedWeibullTransform()\n",
    "\n",
    "    class InvertedWeibullTransform(mtransforms.Transform):\n",
    "        input_dims = 1\n",
    "        output_dims = 1\n",
    "        is_separable = True\n",
    "\n",
    "        def __init__(self):\n",
    "            mtransforms.Transform.__init__(self)\n",
    "\n",
    "        def transform_non_affine(self, a):\n",
    "            #Need to get the PPF value for a, which is in a percent scale [0,100], so move back to probability range [0,1]\n",
    "            inverse = 1. - 1./np.exp(np.exp(a))\n",
    "            return inverse\n",
    "\n",
    "        def inverted(self):\n",
    "            return WeibullScale.WeibullTransform()\n",
    "\n",
    "# Now that the Scale class has been defined, it must be registered so\n",
    "# that ``matplotlib`` can find it.\n",
    "mscale.register_scale(WeibullScale)\n",
    "\n",
    "\n",
    "# Now that the Scale class has been defined, it must be registered so\n",
    "# that ``matplotlib`` can find it.\n",
    "#mscale.register_scale(WeibullScale)\n",
    "\n",
    "\n",
    "if __name__ == '__main__':\n",
    "    import matplotlib.pyplot as plt\n",
    "\n",
    "    x = np.sort(weibull_min.rvs(10, scale=3, size=1000))\n",
    "    y = np.array(pp(x))\n",
    "\n",
    "    plt.scatter(x, y)\n",
    "    plt.gca().set_yscale('weibull')\n",
    "    plt.gca().set_xscale('log')\n",
    "\n",
    "    plt.xlabel('Failure')\n",
    "    plt.ylabel('CDF')\n",
    "    plt.title('Weibull Plot!')\n",
    "    plt.grid(True)\n",
    "\n",
    "    plt.show()\n"
   ]
  },
  {
   "cell_type": "markdown",
   "metadata": {},
   "source": [
    "For these anlyses, we will go back to the beinging and use Weibull's original yield strength of bofors steel data. This is the yield strength, measured in (oddly) 1.275 kg/mm^2 and the number of observations."
   ]
  },
  {
   "cell_type": "code",
   "execution_count": 3,
   "metadata": {},
   "outputs": [],
   "source": [
    "x = np.array([32, 33, 34, 35, 36, 37, 38, 39, 40, 42])\n",
    "n = np.array([10, 33, 81, 161, 224, 289, 336, 369, 383, 389])\n",
    "\n",
    "# Mr Weibull's measurements are cumulative, so let's calculate the obervations at each point.\n",
    "n = np.concatenate([[n[0]], np.diff(n)])"
   ]
  },
  {
   "cell_type": "code",
   "execution_count": 4,
   "metadata": {},
   "outputs": [],
   "source": [
    "R = nonp.nelson_aalen(x, n=n)"
   ]
  },
  {
   "cell_type": "code",
   "execution_count": 6,
   "metadata": {},
   "outputs": [
    {
     "data": {
      "image/png": "[encoded data removed]",
      "text/plain": [
       "<Figure size 432x288 with 1 Axes>"
      ]
     },
     "metadata": {},
     "output_type": "display_data"
    }
   ],
   "source": [
    "ax = plt.scatter(x, 1-R)"
   ]
  },
  {
   "cell_type": "code",
   "execution_count": 7,
   "metadata": {},
   "outputs": [],
   "source": [
    "R_km = nonp.nelson_aalen(x, n=n)"
   ]
  },
  {
   "cell_type": "code",
   "execution_count": 17,
   "metadata": {},
   "outputs": [
    {
     "name": "stdout",
     "output_type": "stream",
     "text": [
      "\n"
     ]
    },
    {
     "ename": "ValueError",
     "evalue": "x and y must be the same size",
     "output_type": "error",
     "traceback": [
      "\u001b[0;31m---------------------------------------------------------------------------\u001b[0m",
      "\u001b[0;31mValueError\u001b[0m                                Traceback (most recent call last)",
      "\u001b[0;32m<ipython-input-17-00d41cffa9cd>\u001b[0m in \u001b[0;36m<module>\u001b[0;34m()\u001b[0m\n\u001b[1;32m      1\u001b[0m \u001b[0mplt\u001b[0m\u001b[0;34m.\u001b[0m\u001b[0myscale\u001b[0m\u001b[0;34m(\u001b[0m\u001b[0;34m'weibull'\u001b[0m\u001b[0;34m)\u001b[0m\u001b[0;34m\u001b[0m\u001b[0m\n\u001b[0;32m----> 2\u001b[0;31m \u001b[0max\u001b[0m \u001b[0;34m=\u001b[0m \u001b[0mplt\u001b[0m\u001b[0;34m.\u001b[0m\u001b[0mscatter\u001b[0m\u001b[0;34m(\u001b[0m\u001b[0mx\u001b[0m\u001b[0;34m,\u001b[0m \u001b[0mR_km\u001b[0m\u001b[0;34m)\u001b[0m\u001b[0;34m\u001b[0m\u001b[0m\n\u001b[0m",
      "\u001b[0;32m/anaconda3/lib/python3.6/site-packages/matplotlib/pyplot.py\u001b[0m in \u001b[0;36mscatter\u001b[0;34m(x, y, s, c, marker, cmap, norm, vmin, vmax, alpha, linewidths, verts, edgecolors, hold, data, **kwargs)\u001b[0m\n\u001b[1;32m   3473\u001b[0m                          \u001b[0mvmin\u001b[0m\u001b[0;34m=\u001b[0m\u001b[0mvmin\u001b[0m\u001b[0;34m,\u001b[0m \u001b[0mvmax\u001b[0m\u001b[0;34m=\u001b[0m\u001b[0mvmax\u001b[0m\u001b[0;34m,\u001b[0m \u001b[0malpha\u001b[0m\u001b[0;34m=\u001b[0m\u001b[0malpha\u001b[0m\u001b[0;34m,\u001b[0m\u001b[0;34m\u001b[0m\u001b[0m\n\u001b[1;32m   3474\u001b[0m                          \u001b[0mlinewidths\u001b[0m\u001b[0;34m=\u001b[0m\u001b[0mlinewidths\u001b[0m\u001b[0;34m,\u001b[0m \u001b[0mverts\u001b[0m\u001b[0;34m=\u001b[0m\u001b[0mverts\u001b[0m\u001b[0;34m,\u001b[0m\u001b[0;34m\u001b[0m\u001b[0m\n\u001b[0;32m-> 3475\u001b[0;31m                          edgecolors=edgecolors, data=data, **kwargs)\n\u001b[0m\u001b[1;32m   3476\u001b[0m     \u001b[0;32mfinally\u001b[0m\u001b[0;34m:\u001b[0m\u001b[0;34m\u001b[0m\u001b[0m\n\u001b[1;32m   3477\u001b[0m         \u001b[0max\u001b[0m\u001b[0;34m.\u001b[0m\u001b[0m_hold\u001b[0m \u001b[0;34m=\u001b[0m \u001b[0mwashold\u001b[0m\u001b[0;34m\u001b[0m\u001b[0m\n",
      "\u001b[0;32m/anaconda3/lib/python3.6/site-packages/matplotlib/__init__.py\u001b[0m in \u001b[0;36minner\u001b[0;34m(ax, *args, **kwargs)\u001b[0m\n\u001b[1;32m   1865\u001b[0m                         \u001b[0;34m\"the Matplotlib list!)\"\u001b[0m \u001b[0;34m%\u001b[0m \u001b[0;34m(\u001b[0m\u001b[0mlabel_namer\u001b[0m\u001b[0;34m,\u001b[0m \u001b[0mfunc\u001b[0m\u001b[0;34m.\u001b[0m\u001b[0m__name__\u001b[0m\u001b[0;34m)\u001b[0m\u001b[0;34m,\u001b[0m\u001b[0;34m\u001b[0m\u001b[0m\n\u001b[1;32m   1866\u001b[0m                         RuntimeWarning, stacklevel=2)\n\u001b[0;32m-> 1867\u001b[0;31m             \u001b[0;32mreturn\u001b[0m \u001b[0mfunc\u001b[0m\u001b[0;34m(\u001b[0m\u001b[0max\u001b[0m\u001b[0;34m,\u001b[0m \u001b[0;34m*\u001b[0m\u001b[0margs\u001b[0m\u001b[0;34m,\u001b[0m \u001b[0;34m**\u001b[0m\u001b[0mkwargs\u001b[0m\u001b[0;34m)\u001b[0m\u001b[0;34m\u001b[0m\u001b[0m\n\u001b[0m\u001b[1;32m   1868\u001b[0m \u001b[0;34m\u001b[0m\u001b[0m\n\u001b[1;32m   1869\u001b[0m         inner.__doc__ = _add_data_doc(inner.__doc__,\n",
      "\u001b[0;32m/anaconda3/lib/python3.6/site-packages/matplotlib/axes/_axes.py\u001b[0m in \u001b[0;36mscatter\u001b[0;34m(self, x, y, s, c, marker, cmap, norm, vmin, vmax, alpha, linewidths, verts, edgecolors, **kwargs)\u001b[0m\n\u001b[1;32m   4255\u001b[0m         \u001b[0my\u001b[0m \u001b[0;34m=\u001b[0m \u001b[0mnp\u001b[0m\u001b[0;34m.\u001b[0m\u001b[0mma\u001b[0m\u001b[0;34m.\u001b[0m\u001b[0mravel\u001b[0m\u001b[0;34m(\u001b[0m\u001b[0my\u001b[0m\u001b[0;34m)\u001b[0m\u001b[0;34m\u001b[0m\u001b[0m\n\u001b[1;32m   4256\u001b[0m         \u001b[0;32mif\u001b[0m \u001b[0mx\u001b[0m\u001b[0;34m.\u001b[0m\u001b[0msize\u001b[0m \u001b[0;34m!=\u001b[0m \u001b[0my\u001b[0m\u001b[0;34m.\u001b[0m\u001b[0msize\u001b[0m\u001b[0;34m:\u001b[0m\u001b[0;34m\u001b[0m\u001b[0m\n\u001b[0;32m-> 4257\u001b[0;31m             \u001b[0;32mraise\u001b[0m \u001b[0mValueError\u001b[0m\u001b[0;34m(\u001b[0m\u001b[0;34m\"x and y must be the same size\"\u001b[0m\u001b[0;34m)\u001b[0m\u001b[0;34m\u001b[0m\u001b[0m\n\u001b[0m\u001b[1;32m   4258\u001b[0m \u001b[0;34m\u001b[0m\u001b[0m\n\u001b[1;32m   4259\u001b[0m         \u001b[0;32mif\u001b[0m \u001b[0ms\u001b[0m \u001b[0;32mis\u001b[0m \u001b[0;32mNone\u001b[0m\u001b[0;34m:\u001b[0m\u001b[0;34m\u001b[0m\u001b[0m\n",
      "\u001b[0;31mValueError\u001b[0m: x and y must be the same size"
     ]
    },
    {
     "name": "stderr",
     "output_type": "stream",
     "text": [
      "/anaconda3/lib/python3.6/site-packages/ipykernel_launcher.py:157: RuntimeWarning: divide by zero encountered in log\n",
      "/anaconda3/lib/python3.6/site-packages/ipykernel_launcher.py:157: RuntimeWarning: divide by zero encountered in true_divide\n"
     ]
    },
    {
     "data": {
      "image/png": "[encoded data removed]",
      "text/plain": [
       "<Figure size 432x288 with 1 Axes>"
      ]
     },
     "metadata": {},
     "output_type": "display_data"
    }
   ],
   "source": [
    "plt.yscale('weibull')\n",
    "ax = plt.scatter(x, R_km)"
   ]
  },
  {
   "cell_type": "code",
   "execution_count": null,
   "metadata": {},
   "outputs": [],
   "source": []
  },
  {
   "cell_type": "code",
   "execution_count": 9,
   "metadata": {},
   "outputs": [],
   "source": [
    "import WeibullScale"
   ]
  },
  {
   "cell_type": "code",
   "execution_count": 12,
   "metadata": {},
   "outputs": [
    {
     "data": {
      "text/plain": [
       "[<matplotlib.lines.Line2D at 0x1a1940dc18>]"
      ]
     },
     "execution_count": 12,
     "metadata": {},
     "output_type": "execute_result"
    },
    {
     "data": {
      "image/png": "[encoded data removed]",
      "text/plain": [
       "<Figure size 432x288 with 1 Axes>"
      ]
     },
     "metadata": {},
     "output_type": "display_data"
    }
   ],
   "source": [
    "plt.plot([1], [2])"
   ]
  },
  {
   "cell_type": "code",
   "execution_count": null,
   "metadata": {},
   "outputs": [],
   "source": []
  }
 ],
 "metadata": {
  "kernelspec": {
   "display_name": "Python 3",
   "language": "python",
   "name": "python3"
  },
  "language_info": {
   "codemirror_mode": {
    "name": "ipython",
    "version": 3
   },
   "file_extension": ".py",
   "mimetype": "text/x-python",
   "name": "python",
   "nbconvert_exporter": "python",
   "pygments_lexer": "ipython3",
   "version": "3.6.6"
  }
 },
 "nbformat": 4,
 "nbformat_minor": 2
}
