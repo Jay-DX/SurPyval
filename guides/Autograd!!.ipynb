{
 "cells": [
  {
   "cell_type": "code",
   "execution_count": 1,
   "metadata": {},
   "outputs": [],
   "source": [
    "from autograd import jacobian, hessian, grad\n",
    "import autograd.numpy as np\n",
    "from autograd.scipy.stats import norm\n",
    "#from scipy.stats import norm\n",
    "#from jax import jacobian, hessian, grad\n",
    "#from jax.scipy.stats import norm\n",
    "#import jax.numpy as np\n",
    "#import parametric as par\n",
    "\n",
    "import numpy as onp\n",
    "from scipy.optimize import minimize"
   ]
  },
  {
   "cell_type": "code",
   "execution_count": 2,
   "metadata": {},
   "outputs": [],
   "source": [
    "from numpy.linalg import inv"
   ]
  },
  {
   "cell_type": "code",
   "execution_count": 3,
   "metadata": {},
   "outputs": [],
   "source": [
    "NUM = np.float32"
   ]
  },
  {
   "cell_type": "code",
   "execution_count": 4,
   "metadata": {},
   "outputs": [],
   "source": [
    "TINIEST = np.finfo(NUM).tiny"
   ]
  },
  {
   "cell_type": "code",
   "execution_count": 7,
   "metadata": {},
   "outputs": [],
   "source": [
    "def sf(x, alpha, beta):\n",
    "    return np.exp(-(x / alpha)**beta)\n",
    "\n",
    "def ff(x, alpha, beta):\n",
    "    return 1 - np.exp(-(x / alpha)**beta)\n",
    "\n",
    "def df(x, alpha, beta):\n",
    "    return (beta / alpha) * (x / alpha)**(beta-1) * np.exp(-(x / alpha)**beta)\n",
    "\n",
    "#def sf(x, mu, sigma):\n",
    "    return 1 - norm.cdf(x, mu, sigma)\n",
    "\n",
    "#def ff(x, mu, sigma):\n",
    "    return norm.cdf(x, mu, sigma)\n",
    "\n",
    "#def df(x, mu, sigma):\n",
    "    return norm.pdf(x, mu, sigma)"
   ]
  },
  {
   "cell_type": "code",
   "execution_count": 8,
   "metadata": {},
   "outputs": [],
   "source": [
    "def neg_ll(params, n, c, x):\n",
    "    like = (n * ff(x, *params) * c * (c - 1.) / 2. +\n",
    "            n * df(x, *params) * (1. - c**2.) +\n",
    "            n * sf(x, *params) * c * (c + 1.) / 2.\n",
    "               )\n",
    "    like += TINIEST\n",
    "\n",
    "    return np.array(-np.sum(np.log(like)))"
   ]
  },
  {
   "cell_type": "code",
   "execution_count": 9,
   "metadata": {},
   "outputs": [],
   "source": [
    "x = np.array([32, 33, 34, 35, 36, 37, 38, 39, 40, 42]).astype(NUM)\n",
    "n = np.array([10, 23, 48, 80, 63, 65, 47, 33, 14,  6]).astype(NUM)\n",
    "c = None\n",
    "if n is None:\n",
    "    n = np.ones_like(x).astype(NUM)\n",
    "\n",
    "if c is None:\n",
    "    c = np.zeros_like(x).astype(NUM)"
   ]
  },
  {
   "cell_type": "code",
   "execution_count": 10,
   "metadata": {},
   "outputs": [],
   "source": [
    "dR_dthetas = np.vectorize(jacobian(lambda x : sf(x, 5., 7.)))"
   ]
  },
  {
   "cell_type": "code",
   "execution_count": 11,
   "metadata": {},
   "outputs": [],
   "source": [
    "fun_nll_jax = lambda xx : neg_ll(xx, n, c, x)\n",
    "fun_nll = lambda xx : onp.array(neg_ll(xx, n, c, x))"
   ]
  },
  {
   "cell_type": "code",
   "execution_count": 12,
   "metadata": {},
   "outputs": [
    {
     "data": {
      "text/plain": [
       "array(6.9518023, dtype=float32)"
      ]
     },
     "execution_count": 12,
     "metadata": {},
     "output_type": "execute_result"
    }
   ],
   "source": [
    "fun_nll([50., 2.])"
   ]
  },
  {
   "cell_type": "code",
   "execution_count": 13,
   "metadata": {},
   "outputs": [],
   "source": [
    "jac = jacobian(fun_nll_jax)\n",
    "hess = hessian(fun_nll_jax)"
   ]
  },
  {
   "cell_type": "code",
   "execution_count": 14,
   "metadata": {},
   "outputs": [
    {
     "data": {
      "text/plain": [
       "array([-0.19824219, -4.40390861])"
      ]
     },
     "execution_count": 14,
     "metadata": {},
     "output_type": "execute_result"
    }
   ],
   "source": [
    "jac(np.array([32., 2.]))"
   ]
  },
  {
   "cell_type": "code",
   "execution_count": 15,
   "metadata": {},
   "outputs": [],
   "source": [
    "x = np.array([16, 34, 53, 75, 93, 120])\n",
    "c = None\n",
    "n = None\n",
    "if n is None:\n",
    "    n = np.ones_like(x).astype(NUM)\n",
    "\n",
    "if c is None:\n",
    "    c = np.zeros_like(x).astype(NUM)"
   ]
  },
  {
   "cell_type": "code",
   "execution_count": 16,
   "metadata": {},
   "outputs": [],
   "source": [
    "res = minimize(fun_nll, np.array([np.mean(x),  np.std(x)]), method='trust-exact', jac=jac, hess=hess)"
   ]
  },
  {
   "cell_type": "code",
   "execution_count": 17,
   "metadata": {},
   "outputs": [
    {
     "data": {
      "text/plain": [
       "     fun: array(29.58492162)\n",
       "    hess: array([[ 0.00414577, -0.03221496],\n",
       "       [-0.03221496,  2.62502481]])\n",
       "     jac: array([-1.61529534e-06,  5.17930935e-05])\n",
       " message: 'Optimization terminated successfully.'\n",
       "    nfev: 19\n",
       "    nhev: 19\n",
       "     nit: 18\n",
       "    njev: 17\n",
       "  status: 0\n",
       " success: True\n",
       "       x: array([73.52581296,  1.93269451])"
      ]
     },
     "execution_count": 17,
     "metadata": {},
     "output_type": "execute_result"
    }
   ],
   "source": [
    "res"
   ]
  },
  {
   "cell_type": "code",
   "execution_count": 18,
   "metadata": {},
   "outputs": [],
   "source": [
    "hess_inv = inv(res.hess)"
   ]
  },
  {
   "cell_type": "code",
   "execution_count": 19,
   "metadata": {},
   "outputs": [
    {
     "data": {
      "text/plain": [
       "array([[266.63710784,   3.27223702],\n",
       "       [  3.27223702,   0.42110649]])"
      ]
     },
     "execution_count": 19,
     "metadata": {},
     "output_type": "execute_result"
    }
   ],
   "source": [
    "hess_inv"
   ]
  },
  {
   "cell_type": "code",
   "execution_count": null,
   "metadata": {},
   "outputs": [],
   "source": []
  }
 ],
 "metadata": {
  "kernelspec": {
   "display_name": "Python 3",
   "language": "python",
   "name": "python3"
  },
  "language_info": {
   "codemirror_mode": {
    "name": "ipython",
    "version": 3
   },
   "file_extension": ".py",
   "mimetype": "text/x-python",
   "name": "python",
   "nbconvert_exporter": "python",
   "pygments_lexer": "ipython3",
   "version": "3.7.4"
  }
 },
 "nbformat": 4,
 "nbformat_minor": 4
}
