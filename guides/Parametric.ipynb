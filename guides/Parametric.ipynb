{
 "cells": [
  {
   "cell_type": "markdown",
   "metadata": {},
   "source": [
    "# Parametric Survival Anlaysis"
   ]
  },
  {
   "cell_type": "markdown",
   "metadata": {},
   "source": [
    "### Introduction"
   ]
  },
  {
   "cell_type": "markdown",
   "metadata": {},
   "source": [
    "As we learned in the non-parametric analysis, sometimes we need to extrapolate or interpolate estimations of reliability. Non-parametric models are not always suited to this. As such we need another method to model reliability."
   ]
  },
  {
   "cell_type": "markdown",
   "metadata": {},
   "source": [
    "Before diving explicity into the distribution most commonly used in survival analysis, we will dive into an experiment. In this experiment we are going to find the strength of a chain.\n",
    "\n",
    "It is quite obvious that the strength of a chain to bear a load is equal to the strength of the weakest link. This is true of many other scenarios, the strength of cotton fibres is only as much as the weakest strand in the fibre, survival times, strength of structures. All these depend on the minimum strength to determine the strength/duration of the object/person. Any way to model this behaviour would be extremely (hint) useful.\n",
    "\n",
    "Let's start with a chain. Let's say we are trying to estimate the strength of a chain for some application. We have 100 test chains. Each chain has 1000 links, the distribution of chain link strength is normal with mean 200 and std dev of 10. Some simple monte carlo modelling can show us what we might expect:"
   ]
  },
  {
   "cell_type": "code",
   "execution_count": 8,
   "metadata": {},
   "outputs": [],
   "source": [
    "import numpy as np\n",
    "import matplotlib.pyplot as plt\n",
    "%matplotlib inline"
   ]
  },
  {
   "cell_type": "code",
   "execution_count": 9,
   "metadata": {},
   "outputs": [],
   "source": [
    "n = 1000\n",
    "mean = 200\n",
    "std_dev = 10\n",
    "links = 1000\n",
    "\n",
    "chain_strength = np.random.normal(mean, std_dev, size=(n, links)).min(axis=0)"
   ]
  },
  {
   "cell_type": "code",
   "execution_count": 10,
   "metadata": {},
   "outputs": [
    {
     "data": {
      "image/png": "[encoded data removed]",
      "text/plain": [
       "<Figure size 432x288 with 1 Axes>"
      ]
     },
     "metadata": {
      "needs_background": "light"
     },
     "output_type": "display_data"
    }
   ],
   "source": [
    "plt.hist(chain_strength, bins=n);"
   ]
  },
  {
   "cell_type": "markdown",
   "metadata": {},
   "source": [
    "That seems to be quite regularly distributed. What happens if we increase the number of links and the count of chains?\n"
   ]
  },
  {
   "cell_type": "code",
   "execution_count": 11,
   "metadata": {},
   "outputs": [],
   "source": [
    "links = 100000\n",
    "chain_strength = np.random.normal(loc=mean, scale=std_dev, size=(n, links)).min(axis=0)"
   ]
  },
  {
   "cell_type": "code",
   "execution_count": 12,
   "metadata": {},
   "outputs": [
    {
     "data": {
      "image/png": "[encoded data removed]",
      "text/plain": [
       "<Figure size 432x288 with 1 Axes>"
      ]
     },
     "metadata": {
      "needs_background": "light"
     },
     "output_type": "display_data"
    }
   ],
   "source": [
    "plt.hist(chain_strength, bins=int(n/2));"
   ]
  },
  {
   "cell_type": "markdown",
   "metadata": {},
   "source": [
    "This appears to be quite a regular distribution. If we get some information about this distribution we could know a lot about the strength of these chains.\n",
    "\n",
    "It turns out, that as the number of chains and links tend to infinity, the distribution converges to the 'Weibull' distribution. This is exactly analagous to the central limit theorem and the normal distribution. That is, as we get more and more samples, the mean of a set of random variables converges to the normal distribution. Whereas here we have shown that that the minimum converges to a Weibull distribution. Neat huh!\n",
    "\n",
    "But what is the weibull distribution?"
   ]
  },
  {
   "cell_type": "markdown",
   "metadata": {},
   "source": [
    "$$ F = 1 - e^{-({\\frac{x}{\\alpha}})^\\beta}  $$"
   ]
  },
  {
   "cell_type": "markdown",
   "metadata": {},
   "source": [
    "The above equation is the CDF for the Weibull distribution. For survival analysis, F is the probability of not surviving till x. Or put another way, it is the probability of dying (failing) before reaching x.\n",
    "\n",
    "For the equation above, x is the variable, alpha is the 'characteristic life' or scale parameter, and beta is the shape parameter.\n",
    "\n",
    "Let's use surpyval to fit a distribution."
   ]
  },
  {
   "cell_type": "code",
   "execution_count": 13,
   "metadata": {},
   "outputs": [],
   "source": [
    "import surpyval as surv"
   ]
  },
  {
   "cell_type": "code",
   "execution_count": 14,
   "metadata": {},
   "outputs": [],
   "source": [
    "x = chain_strength"
   ]
  },
  {
   "cell_type": "code",
   "execution_count": 15,
   "metadata": {},
   "outputs": [
    {
     "data": {
      "image/png": "[encoded data removed]",
      "text/plain": [
       "<Figure size 432x288 with 1 Axes>"
      ]
     },
     "metadata": {
      "needs_background": "light"
     },
     "output_type": "display_data"
    }
   ],
   "source": [
    "model = surv.parametric.Weibull.fit(x, how=\"MLE\")\n",
    "xx = np.arange(np.min(x), np.max(x), 0.1)\n",
    "y = model.df(xx)\n",
    "plt.hist(x, density=True, bins=int(n/2))\n",
    "plt.plot(xx, y, color='r');\n",
    "model.params;"
   ]
  },
  {
   "cell_type": "markdown",
   "metadata": {},
   "source": [
    "The above plot shows our parametric distribution fits our simulated data remarkably well. It also turns out the Weibull distribution is one of three distributions as part of 'Extreme Value' statistics. The other distributions are the Gumbel and the Frechet (where the Frechet distribution models the maxmimum!). But this is not important for our survival analysis. \n",
    "\n",
    "The important fact for us is that the Weibull distribution is useful for modeling the strength (or reliability) in many different scenarios."
   ]
  },
  {
   "cell_type": "markdown",
   "metadata": {},
   "source": [
    "### Finding Weibull Parameters"
   ]
  },
  {
   "cell_type": "markdown",
   "metadata": {},
   "source": [
    "The question now is, how do we find the parameters for the Weibull distribution?\n",
    "\n",
    "The SurPyval package allows users to use several methods, these are:\n",
    "- Plotting Positions\n",
    "- Method of Moments\n",
    "- Maximum Likelihood\n",
    "- Maximum Spacing Estimation\n",
    "\n",
    "The examples used for these will be for complete data."
   ]
  },
  {
   "cell_type": "code",
   "execution_count": 149,
   "metadata": {},
   "outputs": [],
   "source": [
    "x = np.array([1, 2, 3, 4, 5, 6, 6, 7])\n",
    "n = np.array([2, 3, 4, 4, 5, 6, 7, 1])\n",
    "c = np.array([0, 1, 0, 0, 1, 0, 1, 0])\n",
    "#x, r, d, R = surv.nonparametric.nelson_aalen(chain_strength)\n",
    "x, r, d, R = surv.nonparametric.nelson_aalen(x, c=c, n=n)"
   ]
  },
  {
   "cell_type": "code",
   "execution_count": 150,
   "metadata": {},
   "outputs": [],
   "source": [
    "from matplotlib.ticker import FixedLocator\n",
    "weibull_transform = lambda F : np.log(-np.log(1 - F))\n",
    "weibull_inverse_transform = lambda R : 1 - np.exp(-np.exp(R))"
   ]
  },
  {
   "cell_type": "code",
   "execution_count": 915,
   "metadata": {},
   "outputs": [],
   "source": [
    "x = np.array([32, 33, 34, 35, 36, 37, 38, 39, 40, 42]) * 1.275\n",
    "n = np.array([10, 33, 81, 161, 224, 289, 336, 369, 383, 389])\n",
    "c = None\n",
    "# Mr Weibull's measurements are cumulative, so let's calculate the obervations at each point.\n",
    "n = np.concatenate([[n[0]], np.diff(n)])"
   ]
  },
  {
   "cell_type": "code",
   "execution_count": 916,
   "metadata": {},
   "outputs": [
    {
     "name": "stdout",
     "output_type": "stream",
     "text": [
      "(7.141925210934722, 2.6204524019322926, 39.7656296335165)\n"
     ]
    }
   ],
   "source": [
    "weib_2p = surv.parametric.Weibull3p.fit(x, n=n, how='MLE')\n",
    "print(weib_2p.params)"
   ]
  },
  {
   "cell_type": "code",
   "execution_count": 917,
   "metadata": {},
   "outputs": [],
   "source": [
    "#x, r, d, R = surv.nonparametric.nelson_aalen(chain_strength)\n",
    "x, r, d, R = surv.nonparametric.nelson_aalen(x, c=c, n=n)"
   ]
  },
  {
   "cell_type": "code",
   "execution_count": 918,
   "metadata": {},
   "outputs": [],
   "source": [
    "import matplotlib\n",
    "\n",
    "def round_sig(points, sig=2):\n",
    "    places = sig - np.floor(np.log10(np.abs(points))) - 1\n",
    "    output = []\n",
    "    for p, i in zip(points, places):\n",
    "        output.append(np.round(p, np.int(i)))\n",
    "    return output"
   ]
  },
  {
   "cell_type": "code",
   "execution_count": 1098,
   "metadata": {},
   "outputs": [
    {
     "data": {
      "image/png": "[encoded data removed]",
      "text/plain": [
       "<Figure size 432x288 with 1 Axes>"
      ]
     },
     "metadata": {
      "needs_background": "light"
     },
     "output_type": "display_data"
    }
   ],
   "source": [
    "alpha = 50\n",
    "beta =  5\n",
    "n = 20\n",
    "xx = surv.parametric.Weibull.random(20, alpha, beta)\n",
    "x, r, d, R = surv.nonparametric.nelson_aalen(xx)\n",
    "\n",
    "# Plot\n",
    "plt.scatter(x, 1 - R)\n",
    "# Set axis scales\n",
    "plt.gca().set_yscale('function', functions=(weibull_transform, weibull_inverse_transform))\n",
    "plt.xscale('log')\n",
    "# Add grid lines\n",
    "plt.grid(b=True, which='major', color='k', alpha=0.4, linestyle='-')\n",
    "plt.grid(b=True, which='minor', color='k', alpha=0.1, linestyle='-')\n",
    "\n",
    "ytickvals = np.array([0.0001, 0.0002, 0.0003, 0.001, 0.002, 0.003, 0.005, 0.01, 0.02, 0.03, 0.05, 0.1, 0.2, 0.3, 0.4, 0.5, 0.6, 0.7, 0.8, 0.9, 0.95, 0.99, 0.999, 0.9999])\n",
    "ytickvals = ytickvals[np.where((ytickvals > y_min) & (ytickvals < y_max))[0]]\n",
    "plt.yticks(ytickvals)\n",
    "plt.gca().yaxis.set_minor_locator(FixedLocator(np.linspace(0, 1, 51)))\n",
    "plt.gca().set_yticklabels(['{:,.0%}'.format(x) for x in ytickvals])  # formats y ticks as percentage\n",
    "\n",
    "# x-axis\n",
    "min_x = np.log10(np.min(x))\n",
    "max_x = np.log10(np.max(x))\n",
    "diff = np.log10(np.max(x) - np.min(x))\n",
    "\n",
    "not_different = True\n",
    "vals_non_sig = 10 ** np.linspace(min_x, max_x, 7)\n",
    "i = 1\n",
    "\n",
    "while not_different:\n",
    "    xvals = np.array(round_sig(vals_non_sig, i))\n",
    "    not_different = (np.diff(xvals) == 0).any()\n",
    "    i += 1\n",
    "\n",
    "# Find minor ticks\n",
    "xminor = np.arange(np.floor(min_x), np.ceil(max_x))\n",
    "xminor = (10**xminor * np.array(np.arange(1, 11)).reshape((10, 1))).flatten()\n",
    "plt.gca().set_xticks(xvals)\n",
    "xvals = [str(int(x)) if (re.match('([0-9]+\\.0+)', str(x)) is not None) & (x > 1) else str(x) for x in xvals]\n",
    "plt.gca().set_xticklabels(xvals)\n",
    "plt.gca().set_xticks(xminor, minor=True)\n",
    "plt.gca().set_xticklabels([], minor=True)\n",
    "# y-axis limits\n",
    "y_min = np.min(1 - R)/2\n",
    "y_max = (1 - (1 - np.max(1 - R))/10)\n",
    "plt.ylim([y_min, y_max])\n",
    "# x-axis limits\n",
    "plt.xlim([10**(np.log10(np.min(vals_non_sig)) - diff/100), 10**(max_x + diff/100)])\n",
    "plt.title('{} Probability Plot'.format('Weibull'))\n",
    "plt.ylabel('CDF')\n",
    "\n",
    "ax = plt.gca()\n",
    "ax.set_axisbelow(True)"
   ]
  },
  {
   "cell_type": "code",
   "execution_count": null,
   "metadata": {},
   "outputs": [],
   "source": []
  }
 ],
 "metadata": {
  "kernelspec": {
   "display_name": "Python 3",
   "language": "python",
   "name": "python3"
  },
  "language_info": {
   "codemirror_mode": {
    "name": "ipython",
    "version": 3
   },
   "file_extension": ".py",
   "mimetype": "text/x-python",
   "name": "python",
   "nbconvert_exporter": "python",
   "pygments_lexer": "ipython3",
   "version": "3.7.4"
  }
 },
 "nbformat": 4,
 "nbformat_minor": 4
}
