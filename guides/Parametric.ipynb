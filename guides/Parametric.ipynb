{
 "cells": [
  {
   "cell_type": "markdown",
   "metadata": {},
   "source": [
    "# Parametric Survival Anlaysis"
   ]
  },
  {
   "cell_type": "markdown",
   "metadata": {},
   "source": [
    "### Introduction"
   ]
  },
  {
   "cell_type": "markdown",
   "metadata": {},
   "source": [
    "As we learned in the non-parametric analysis, sometimes we need to extrapolate or interpolate estimations of reliability. Non-parametric models are not always suited to this. As such we need another method to model reliability."
   ]
  },
  {
   "cell_type": "markdown",
   "metadata": {},
   "source": [
    "Before diving explicity into the distribution most commonly used in survival analysis, we will dive into an experiment. In this experiment we are going to find the strength of a chain.\n",
    "\n",
    "It is quite obvious that the strength of a chain to bear a load is equal to the strength of the weakest link. This is true of many other scenarios, the strength of cotton fibres is only as much as the weakest strand in the fibre, survival times, strength of structures. All these depend on the minimum strength to determine the strength/duration of the object/person. Any way to model this behaviour would be extremely (hint) useful.\n",
    "\n",
    "Let's start with a chain. Let's say we are trying to estimate the strength of a chain for some application. We have 100 test chains. Each chain has 1000 links, the distribution of chain link strength is normal with mean 200 and std dev of 10. Some simple monte carlo modelling can show us what we might expect:"
   ]
  },
  {
   "cell_type": "code",
   "execution_count": 2,
   "metadata": {},
   "outputs": [],
   "source": [
    "import numpy as np\n",
    "import matplotlib.pyplot as plt\n",
    "%matplotlib inline"
   ]
  },
  {
   "cell_type": "code",
   "execution_count": 3,
   "metadata": {},
   "outputs": [],
   "source": [
    "from scipy.optimize import minimize\n",
    "from scipy.optimize import approx_fprime\n",
    "EPS = np.sqrt(np.finfo(np.float64).eps)"
   ]
  },
  {
   "cell_type": "code",
   "execution_count": 4,
   "metadata": {},
   "outputs": [],
   "source": [
    "import parametric as par"
   ]
  },
  {
   "cell_type": "code",
   "execution_count": 5,
   "metadata": {},
   "outputs": [],
   "source": [
    "dist = par.Weibull\n",
    "x = np.array([16, 34, 53, 75, 93, 120])\n",
    "n = None\n",
    "c = None"
   ]
  },
  {
   "cell_type": "code",
   "execution_count": 6,
   "metadata": {},
   "outputs": [
    {
     "name": "stdout",
     "output_type": "stream",
     "text": [
      "(73.52616393416096, 1.9326856780632191)\n"
     ]
    },
    {
     "data": {
      "text/plain": [
       "     fun: 29.584921614974103\n",
       "    hess: array([[ 0.00414562, -0.03221247],\n",
       "       [-0.03221247,  2.62501825]])\n",
       "     jac: array([1.24240355e-07, 1.73035866e-05])\n",
       " message: 'Optimization terminated successfully.'\n",
       "    nfev: 1\n",
       "    nhev: 1\n",
       "     nit: 0\n",
       "    njev: 1\n",
       "  status: 0\n",
       " success: True\n",
       "       x: array([73.52616393,  1.93268568])"
      ]
     },
     "execution_count": 6,
     "metadata": {},
     "output_type": "execute_result"
    }
   ],
   "source": [
    "model = dist.fit(x, how='MLE')\n",
    "print(model.params)\n",
    "model.res"
   ]
  },
  {
   "cell_type": "code",
   "execution_count": 7,
   "metadata": {},
   "outputs": [
    {
     "data": {
      "text/plain": [
       "-0.01388030428854892"
      ]
     },
     "execution_count": 7,
     "metadata": {},
     "output_type": "execute_result"
    }
   ],
   "source": [
    "model.dist.u(73., *model.params)"
   ]
  },
  {
   "cell_type": "code",
   "execution_count": 16,
   "metadata": {},
   "outputs": [
    {
     "name": "stdout",
     "output_type": "stream",
     "text": [
      "0.372985556363472\n"
     ]
    },
    {
     "ename": "ValueError",
     "evalue": "matmul: Input operand 0 does not have enough dimensions (has 0, gufunc core with signature (n?,k),(k,m?)->(n?,m?) requires 1)",
     "output_type": "error",
     "traceback": [
      "\u001b[0;31m---------------------------------------------------------------------------\u001b[0m",
      "\u001b[0;31mValueError\u001b[0m                                Traceback (most recent call last)",
      "\u001b[0;32m<ipython-input-16-8717fc6b2319>\u001b[0m in \u001b[0;36m<module>\u001b[0;34m\u001b[0m\n\u001b[1;32m      1\u001b[0m \u001b[0mprint\u001b[0m\u001b[0;34m(\u001b[0m\u001b[0mmodel\u001b[0m\u001b[0;34m.\u001b[0m\u001b[0msf\u001b[0m\u001b[0;34m(\u001b[0m\u001b[0;36m73.\u001b[0m\u001b[0;34m)\u001b[0m\u001b[0;34m)\u001b[0m\u001b[0;34m\u001b[0m\u001b[0;34m\u001b[0m\u001b[0m\n\u001b[0;32m----> 2\u001b[0;31m \u001b[0ma\u001b[0m \u001b[0;34m=\u001b[0m \u001b[0mmodel\u001b[0m\u001b[0;34m.\u001b[0m\u001b[0mdist\u001b[0m\u001b[0;34m.\u001b[0m\u001b[0mu_cb\u001b[0m\u001b[0;34m(\u001b[0m\u001b[0mnp\u001b[0m\u001b[0;34m.\u001b[0m\u001b[0marray\u001b[0m\u001b[0;34m(\u001b[0m\u001b[0;34m[\u001b[0m\u001b[0;36m73.\u001b[0m\u001b[0;34m,\u001b[0m \u001b[0;36m75.\u001b[0m\u001b[0;34m]\u001b[0m\u001b[0;34m)\u001b[0m\u001b[0;34m,\u001b[0m \u001b[0;34m*\u001b[0m\u001b[0mmodel\u001b[0m\u001b[0;34m.\u001b[0m\u001b[0mparams\u001b[0m\u001b[0;34m,\u001b[0m \u001b[0mmodel\u001b[0m\u001b[0;34m.\u001b[0m\u001b[0mhess_inv\u001b[0m\u001b[0;34m)\u001b[0m\u001b[0;34m\u001b[0m\u001b[0;34m\u001b[0m\u001b[0m\n\u001b[0m",
      "\u001b[0;32m/opt/anaconda3/lib/python3.7/site-packages/numpy/lib/function_base.py\u001b[0m in \u001b[0;36m__call__\u001b[0;34m(self, *args, **kwargs)\u001b[0m\n\u001b[1;32m   2089\u001b[0m             \u001b[0mvargs\u001b[0m\u001b[0;34m.\u001b[0m\u001b[0mextend\u001b[0m\u001b[0;34m(\u001b[0m\u001b[0;34m[\u001b[0m\u001b[0mkwargs\u001b[0m\u001b[0;34m[\u001b[0m\u001b[0m_n\u001b[0m\u001b[0;34m]\u001b[0m \u001b[0;32mfor\u001b[0m \u001b[0m_n\u001b[0m \u001b[0;32min\u001b[0m \u001b[0mnames\u001b[0m\u001b[0;34m]\u001b[0m\u001b[0;34m)\u001b[0m\u001b[0;34m\u001b[0m\u001b[0;34m\u001b[0m\u001b[0m\n\u001b[1;32m   2090\u001b[0m \u001b[0;34m\u001b[0m\u001b[0m\n\u001b[0;32m-> 2091\u001b[0;31m         \u001b[0;32mreturn\u001b[0m \u001b[0mself\u001b[0m\u001b[0;34m.\u001b[0m\u001b[0m_vectorize_call\u001b[0m\u001b[0;34m(\u001b[0m\u001b[0mfunc\u001b[0m\u001b[0;34m=\u001b[0m\u001b[0mfunc\u001b[0m\u001b[0;34m,\u001b[0m \u001b[0margs\u001b[0m\u001b[0;34m=\u001b[0m\u001b[0mvargs\u001b[0m\u001b[0;34m)\u001b[0m\u001b[0;34m\u001b[0m\u001b[0;34m\u001b[0m\u001b[0m\n\u001b[0m\u001b[1;32m   2092\u001b[0m \u001b[0;34m\u001b[0m\u001b[0m\n\u001b[1;32m   2093\u001b[0m     \u001b[0;32mdef\u001b[0m \u001b[0m_get_ufunc_and_otypes\u001b[0m\u001b[0;34m(\u001b[0m\u001b[0mself\u001b[0m\u001b[0;34m,\u001b[0m \u001b[0mfunc\u001b[0m\u001b[0;34m,\u001b[0m \u001b[0margs\u001b[0m\u001b[0;34m)\u001b[0m\u001b[0;34m:\u001b[0m\u001b[0;34m\u001b[0m\u001b[0;34m\u001b[0m\u001b[0m\n",
      "\u001b[0;32m/opt/anaconda3/lib/python3.7/site-packages/numpy/lib/function_base.py\u001b[0m in \u001b[0;36m_vectorize_call\u001b[0;34m(self, func, args)\u001b[0m\n\u001b[1;32m   2159\u001b[0m             \u001b[0mres\u001b[0m \u001b[0;34m=\u001b[0m \u001b[0mfunc\u001b[0m\u001b[0;34m(\u001b[0m\u001b[0;34m)\u001b[0m\u001b[0;34m\u001b[0m\u001b[0;34m\u001b[0m\u001b[0m\n\u001b[1;32m   2160\u001b[0m         \u001b[0;32melse\u001b[0m\u001b[0;34m:\u001b[0m\u001b[0;34m\u001b[0m\u001b[0;34m\u001b[0m\u001b[0m\n\u001b[0;32m-> 2161\u001b[0;31m             \u001b[0mufunc\u001b[0m\u001b[0;34m,\u001b[0m \u001b[0motypes\u001b[0m \u001b[0;34m=\u001b[0m \u001b[0mself\u001b[0m\u001b[0;34m.\u001b[0m\u001b[0m_get_ufunc_and_otypes\u001b[0m\u001b[0;34m(\u001b[0m\u001b[0mfunc\u001b[0m\u001b[0;34m=\u001b[0m\u001b[0mfunc\u001b[0m\u001b[0;34m,\u001b[0m \u001b[0margs\u001b[0m\u001b[0;34m=\u001b[0m\u001b[0margs\u001b[0m\u001b[0;34m)\u001b[0m\u001b[0;34m\u001b[0m\u001b[0;34m\u001b[0m\u001b[0m\n\u001b[0m\u001b[1;32m   2162\u001b[0m \u001b[0;34m\u001b[0m\u001b[0m\n\u001b[1;32m   2163\u001b[0m             \u001b[0;31m# Convert args to object arrays first\u001b[0m\u001b[0;34m\u001b[0m\u001b[0;34m\u001b[0m\u001b[0;34m\u001b[0m\u001b[0m\n",
      "\u001b[0;32m/opt/anaconda3/lib/python3.7/site-packages/numpy/lib/function_base.py\u001b[0m in \u001b[0;36m_get_ufunc_and_otypes\u001b[0;34m(self, func, args)\u001b[0m\n\u001b[1;32m   2119\u001b[0m \u001b[0;34m\u001b[0m\u001b[0m\n\u001b[1;32m   2120\u001b[0m             \u001b[0minputs\u001b[0m \u001b[0;34m=\u001b[0m \u001b[0;34m[\u001b[0m\u001b[0marg\u001b[0m\u001b[0;34m.\u001b[0m\u001b[0mflat\u001b[0m\u001b[0;34m[\u001b[0m\u001b[0;36m0\u001b[0m\u001b[0;34m]\u001b[0m \u001b[0;32mfor\u001b[0m \u001b[0marg\u001b[0m \u001b[0;32min\u001b[0m \u001b[0margs\u001b[0m\u001b[0;34m]\u001b[0m\u001b[0;34m\u001b[0m\u001b[0;34m\u001b[0m\u001b[0m\n\u001b[0;32m-> 2121\u001b[0;31m             \u001b[0moutputs\u001b[0m \u001b[0;34m=\u001b[0m \u001b[0mfunc\u001b[0m\u001b[0;34m(\u001b[0m\u001b[0;34m*\u001b[0m\u001b[0minputs\u001b[0m\u001b[0;34m)\u001b[0m\u001b[0;34m\u001b[0m\u001b[0;34m\u001b[0m\u001b[0m\n\u001b[0m\u001b[1;32m   2122\u001b[0m \u001b[0;34m\u001b[0m\u001b[0m\n\u001b[1;32m   2123\u001b[0m             \u001b[0;31m# Performance note: profiling indicates that -- for simple\u001b[0m\u001b[0;34m\u001b[0m\u001b[0;34m\u001b[0m\u001b[0;34m\u001b[0m\u001b[0m\n",
      "\u001b[0;32m~/Projects/surpyval/parametric.py\u001b[0m in \u001b[0;36mu_cb_\u001b[0;34m(self, x, alpha, beta, cv_matrix, cb)\u001b[0m\n\u001b[1;32m    364\u001b[0m         \u001b[0;32mdef\u001b[0m \u001b[0mu_cb_\u001b[0m\u001b[0;34m(\u001b[0m\u001b[0mself\u001b[0m\u001b[0;34m,\u001b[0m \u001b[0mx\u001b[0m\u001b[0;34m,\u001b[0m \u001b[0malpha\u001b[0m\u001b[0;34m,\u001b[0m \u001b[0mbeta\u001b[0m\u001b[0;34m,\u001b[0m \u001b[0mcv_matrix\u001b[0m\u001b[0;34m,\u001b[0m \u001b[0mcb\u001b[0m\u001b[0;34m=\u001b[0m\u001b[0;36m0.05\u001b[0m\u001b[0;34m)\u001b[0m\u001b[0;34m:\u001b[0m\u001b[0;34m\u001b[0m\u001b[0;34m\u001b[0m\u001b[0m\n\u001b[1;32m    365\u001b[0m                 \u001b[0mu\u001b[0m \u001b[0;34m=\u001b[0m \u001b[0mself\u001b[0m\u001b[0;34m.\u001b[0m\u001b[0mu\u001b[0m\u001b[0;34m(\u001b[0m\u001b[0mx\u001b[0m\u001b[0;34m,\u001b[0m \u001b[0malpha\u001b[0m\u001b[0;34m,\u001b[0m \u001b[0mbeta\u001b[0m\u001b[0;34m)\u001b[0m\u001b[0;34m\u001b[0m\u001b[0;34m\u001b[0m\u001b[0m\n\u001b[0;32m--> 366\u001b[0;31m                 \u001b[0mdiff\u001b[0m \u001b[0;34m=\u001b[0m \u001b[0mz\u001b[0m\u001b[0;34m(\u001b[0m\u001b[0mcb\u001b[0m\u001b[0;34m/\u001b[0m\u001b[0;36m2\u001b[0m\u001b[0;34m)\u001b[0m \u001b[0;34m*\u001b[0m \u001b[0mnp\u001b[0m\u001b[0;34m.\u001b[0m\u001b[0msqrt\u001b[0m\u001b[0;34m(\u001b[0m\u001b[0mself\u001b[0m\u001b[0;34m.\u001b[0m\u001b[0mvar_u\u001b[0m\u001b[0;34m(\u001b[0m\u001b[0mx\u001b[0m\u001b[0;34m,\u001b[0m \u001b[0malpha\u001b[0m\u001b[0;34m,\u001b[0m \u001b[0mbeta\u001b[0m\u001b[0;34m,\u001b[0m \u001b[0mcv_matrix\u001b[0m\u001b[0;34m)\u001b[0m\u001b[0;34m)\u001b[0m\u001b[0;34m\u001b[0m\u001b[0;34m\u001b[0m\u001b[0m\n\u001b[0m\u001b[1;32m    367\u001b[0m                 \u001b[0mbounds\u001b[0m \u001b[0;34m=\u001b[0m \u001b[0mu\u001b[0m \u001b[0;34m+\u001b[0m \u001b[0mnp\u001b[0m\u001b[0;34m.\u001b[0m\u001b[0marray\u001b[0m\u001b[0;34m(\u001b[0m\u001b[0;34m[\u001b[0m\u001b[0;36m1.\u001b[0m\u001b[0;34m,\u001b[0m \u001b[0;34m-\u001b[0m\u001b[0;36m1.\u001b[0m\u001b[0;34m]\u001b[0m\u001b[0;34m)\u001b[0m \u001b[0;34m*\u001b[0m \u001b[0mdiff\u001b[0m\u001b[0;34m\u001b[0m\u001b[0;34m\u001b[0m\u001b[0m\n\u001b[1;32m    368\u001b[0m                 \u001b[0;32mreturn\u001b[0m \u001b[0mbounds\u001b[0m\u001b[0;34m\u001b[0m\u001b[0;34m\u001b[0m\u001b[0m\n",
      "\u001b[0;32m~/Projects/surpyval/parametric.py\u001b[0m in \u001b[0;36mvar_u\u001b[0;34m(self, x, alpha, beta, cv_matrix)\u001b[0m\n\u001b[1;32m    376\u001b[0m                 \u001b[0mJ\u001b[0m \u001b[0;34m=\u001b[0m \u001b[0mself\u001b[0m\u001b[0;34m.\u001b[0m\u001b[0mdu\u001b[0m\u001b[0;34m(\u001b[0m\u001b[0mx\u001b[0m\u001b[0;34m,\u001b[0m \u001b[0malpha\u001b[0m\u001b[0;34m,\u001b[0m \u001b[0mbeta\u001b[0m\u001b[0;34m)\u001b[0m\u001b[0;34m\u001b[0m\u001b[0;34m\u001b[0m\u001b[0m\n\u001b[1;32m    377\u001b[0m                 \u001b[0mJ\u001b[0m \u001b[0;34m=\u001b[0m \u001b[0mnp\u001b[0m\u001b[0;34m.\u001b[0m\u001b[0mmatmul\u001b[0m\u001b[0;34m(\u001b[0m\u001b[0mJ\u001b[0m\u001b[0;34m.\u001b[0m\u001b[0mT\u001b[0m\u001b[0;34m,\u001b[0m \u001b[0mJ\u001b[0m\u001b[0;34m)\u001b[0m\u001b[0;34m\u001b[0m\u001b[0;34m\u001b[0m\u001b[0m\n\u001b[0;32m--> 378\u001b[0;31m                 \u001b[0;32mreturn\u001b[0m \u001b[0mnp\u001b[0m\u001b[0;34m.\u001b[0m\u001b[0mmatmul\u001b[0m\u001b[0;34m(\u001b[0m\u001b[0mcv_matrix\u001b[0m\u001b[0;34m,\u001b[0m \u001b[0mJ\u001b[0m\u001b[0;34m)\u001b[0m\u001b[0;34m.\u001b[0m\u001b[0msum\u001b[0m\u001b[0;34m(\u001b[0m\u001b[0;34m)\u001b[0m\u001b[0;34m.\u001b[0m\u001b[0mitem\u001b[0m\u001b[0;34m(\u001b[0m\u001b[0;34m)\u001b[0m\u001b[0;34m\u001b[0m\u001b[0;34m\u001b[0m\u001b[0m\n\u001b[0m\u001b[1;32m    379\u001b[0m \u001b[0;34m\u001b[0m\u001b[0m\n\u001b[1;32m    380\u001b[0m         \u001b[0;32mdef\u001b[0m \u001b[0mR_u\u001b[0m\u001b[0;34m(\u001b[0m\u001b[0mself\u001b[0m\u001b[0;34m,\u001b[0m \u001b[0mx\u001b[0m\u001b[0;34m,\u001b[0m \u001b[0malpha\u001b[0m\u001b[0;34m,\u001b[0m \u001b[0mbeta\u001b[0m\u001b[0;34m,\u001b[0m \u001b[0mcv_matrix\u001b[0m\u001b[0;34m,\u001b[0m \u001b[0mcb\u001b[0m\u001b[0;34m=\u001b[0m\u001b[0;36m0.05\u001b[0m\u001b[0;34m)\u001b[0m\u001b[0;34m:\u001b[0m\u001b[0;34m\u001b[0m\u001b[0;34m\u001b[0m\u001b[0m\n",
      "\u001b[0;32m/opt/anaconda3/lib/python3.7/site-packages/autograd/tracer.py\u001b[0m in \u001b[0;36mf_wrapped\u001b[0;34m(*args, **kwargs)\u001b[0m\n\u001b[1;32m     46\u001b[0m             \u001b[0;32mreturn\u001b[0m \u001b[0mnew_box\u001b[0m\u001b[0;34m(\u001b[0m\u001b[0mans\u001b[0m\u001b[0;34m,\u001b[0m \u001b[0mtrace\u001b[0m\u001b[0;34m,\u001b[0m \u001b[0mnode\u001b[0m\u001b[0;34m)\u001b[0m\u001b[0;34m\u001b[0m\u001b[0;34m\u001b[0m\u001b[0m\n\u001b[1;32m     47\u001b[0m         \u001b[0;32melse\u001b[0m\u001b[0;34m:\u001b[0m\u001b[0;34m\u001b[0m\u001b[0;34m\u001b[0m\u001b[0m\n\u001b[0;32m---> 48\u001b[0;31m             \u001b[0;32mreturn\u001b[0m \u001b[0mf_raw\u001b[0m\u001b[0;34m(\u001b[0m\u001b[0;34m*\u001b[0m\u001b[0margs\u001b[0m\u001b[0;34m,\u001b[0m \u001b[0;34m**\u001b[0m\u001b[0mkwargs\u001b[0m\u001b[0;34m)\u001b[0m\u001b[0;34m\u001b[0m\u001b[0;34m\u001b[0m\u001b[0m\n\u001b[0m\u001b[1;32m     49\u001b[0m     \u001b[0mf_wrapped\u001b[0m\u001b[0;34m.\u001b[0m\u001b[0mfun\u001b[0m \u001b[0;34m=\u001b[0m \u001b[0mf_raw\u001b[0m\u001b[0;34m\u001b[0m\u001b[0;34m\u001b[0m\u001b[0m\n\u001b[1;32m     50\u001b[0m     \u001b[0mf_wrapped\u001b[0m\u001b[0;34m.\u001b[0m\u001b[0m_is_autograd_primitive\u001b[0m \u001b[0;34m=\u001b[0m \u001b[0;32mTrue\u001b[0m\u001b[0;34m\u001b[0m\u001b[0;34m\u001b[0m\u001b[0m\n",
      "\u001b[0;31mValueError\u001b[0m: matmul: Input operand 0 does not have enough dimensions (has 0, gufunc core with signature (n?,k),(k,m?)->(n?,m?) requires 1)"
     ]
    }
   ],
   "source": [
    "print(model.sf(73.))\n",
    "a = model.dist.u_cb(np.array([73., 75.]), *model.params, model.hess_inv)"
   ]
  },
  {
   "cell_type": "code",
   "execution_count": 14,
   "metadata": {},
   "outputs": [
    {
     "data": {
      "text/plain": [
       "array([-0.52544871,  0.4976881 ])"
      ]
     },
     "execution_count": 14,
     "metadata": {},
     "output_type": "execute_result"
    }
   ],
   "source": [
    "a"
   ]
  },
  {
   "cell_type": "code",
   "execution_count": 16,
   "metadata": {},
   "outputs": [],
   "source": [
    "from numpy.linalg import inv"
   ]
  },
  {
   "cell_type": "code",
   "execution_count": 17,
   "metadata": {},
   "outputs": [
    {
     "data": {
      "text/plain": [
       "array([[266.64327792,   3.27206822],\n",
       "       [  3.27206822,   0.42110237]])"
      ]
     },
     "execution_count": 17,
     "metadata": {},
     "output_type": "execute_result"
    }
   ],
   "source": [
    "inv(model.res.hess)"
   ]
  },
  {
   "cell_type": "code",
   "execution_count": 21,
   "metadata": {},
   "outputs": [],
   "source": [
    "def grad_r(z):\n",
    "    J = np.matrix(jacobian(lambda x : model.dist.sf(*x))(np.array([z, *model.params]))[1::])\n",
    "    J = np.matmul(J.T, J)\n",
    "    out = np.matmul(model.hess_inv, J)\n",
    "    return out\n",
    "    "
   ]
  },
  {
   "cell_type": "code",
   "execution_count": 30,
   "metadata": {},
   "outputs": [
    {
     "data": {
      "text/plain": [
       "1.0045768386535974"
      ]
     },
     "execution_count": 30,
     "metadata": {},
     "output_type": "execute_result"
    }
   ],
   "source": [
    "model.sf(1.)  + np.sqrt(grad_r(1.).sum()) * 1.96"
   ]
  },
  {
   "cell_type": "code",
   "execution_count": 21,
   "metadata": {},
   "outputs": [
    {
     "data": {
      "text/plain": [
       "(8.804864891072128, 2.234172684485362)"
      ]
     },
     "execution_count": 21,
     "metadata": {},
     "output_type": "execute_result"
    }
   ],
   "source": [
    "model.params"
   ]
  },
  {
   "cell_type": "code",
   "execution_count": 24,
   "metadata": {},
   "outputs": [],
   "source": [
    "def var_r(x):\n",
    "    J = np.matrix(model.jac_r(np.array(x)))\n",
    "    \n",
    "    print(J)\n",
    "    out = np.matmul(model.hess_inv, J)\n",
    "    return out.sum()"
   ]
  },
  {
   "cell_type": "code",
   "execution_count": 25,
   "metadata": {},
   "outputs": [
    {
     "data": {
      "text/plain": [
       "array([[-0.85948728, -0.11580176],\n",
       "       [-0.11580176, -0.16173259]])"
      ]
     },
     "execution_count": 25,
     "metadata": {},
     "output_type": "execute_result"
    }
   ],
   "source": [
    "model.hess_inv"
   ]
  },
  {
   "cell_type": "code",
   "execution_count": 26,
   "metadata": {},
   "outputs": [
    {
     "name": "stdout",
     "output_type": "stream",
     "text": [
      "[[0.00029523]]\n"
     ]
    },
    {
     "ename": "ValueError",
     "evalue": "matmul: Input operand 1 has a mismatch in its core dimension 0, with gufunc signature (n?,k),(k,m?)->(n?,m?) (size 1 is different from 2)",
     "output_type": "error",
     "traceback": [
      "\u001b[0;31m---------------------------------------------------------------------------\u001b[0m",
      "\u001b[0;31mValueError\u001b[0m                                Traceback (most recent call last)",
      "\u001b[0;32m<ipython-input-26-6e9d45e8a99f>\u001b[0m in \u001b[0;36m<module>\u001b[0;34m\u001b[0m\n\u001b[0;32m----> 1\u001b[0;31m \u001b[0mvar_r\u001b[0m\u001b[0;34m(\u001b[0m\u001b[0;36m1.\u001b[0m\u001b[0;34m)\u001b[0m\u001b[0;34m\u001b[0m\u001b[0;34m\u001b[0m\u001b[0m\n\u001b[0m",
      "\u001b[0;32m<ipython-input-24-70d01fc1d13a>\u001b[0m in \u001b[0;36mvar_r\u001b[0;34m(x)\u001b[0m\n\u001b[1;32m      3\u001b[0m     \u001b[0mJ\u001b[0m \u001b[0;34m=\u001b[0m \u001b[0mnp\u001b[0m\u001b[0;34m.\u001b[0m\u001b[0mmatmul\u001b[0m\u001b[0;34m(\u001b[0m\u001b[0mJ\u001b[0m\u001b[0;34m.\u001b[0m\u001b[0mT\u001b[0m\u001b[0;34m,\u001b[0m \u001b[0mJ\u001b[0m\u001b[0;34m)\u001b[0m\u001b[0;34m\u001b[0m\u001b[0;34m\u001b[0m\u001b[0m\n\u001b[1;32m      4\u001b[0m     \u001b[0mprint\u001b[0m\u001b[0;34m(\u001b[0m\u001b[0mJ\u001b[0m\u001b[0;34m)\u001b[0m\u001b[0;34m\u001b[0m\u001b[0;34m\u001b[0m\u001b[0m\n\u001b[0;32m----> 5\u001b[0;31m     \u001b[0mout\u001b[0m \u001b[0;34m=\u001b[0m \u001b[0mnp\u001b[0m\u001b[0;34m.\u001b[0m\u001b[0mmatmul\u001b[0m\u001b[0;34m(\u001b[0m\u001b[0mmodel\u001b[0m\u001b[0;34m.\u001b[0m\u001b[0mhess_inv\u001b[0m\u001b[0;34m,\u001b[0m \u001b[0mJ\u001b[0m\u001b[0;34m)\u001b[0m\u001b[0;34m\u001b[0m\u001b[0;34m\u001b[0m\u001b[0m\n\u001b[0m\u001b[1;32m      6\u001b[0m     \u001b[0;32mreturn\u001b[0m \u001b[0mout\u001b[0m\u001b[0;34m.\u001b[0m\u001b[0msum\u001b[0m\u001b[0;34m(\u001b[0m\u001b[0;34m)\u001b[0m\u001b[0;34m\u001b[0m\u001b[0;34m\u001b[0m\u001b[0m\n",
      "\u001b[0;31mValueError\u001b[0m: matmul: Input operand 1 has a mismatch in its core dimension 0, with gufunc signature (n?,k),(k,m?)->(n?,m?) (size 1 is different from 2)"
     ]
    }
   ],
   "source": [
    "var_r(1.)"
   ]
  },
  {
   "cell_type": "code",
   "execution_count": null,
   "metadata": {},
   "outputs": [],
   "source": [
    "var_r = lambda x : "
   ]
  },
  {
   "cell_type": "code",
   "execution_count": 11,
   "metadata": {},
   "outputs": [],
   "source": [
    "from autograd import jacobian, hessian, grad\n",
    "dist = par.Gumbel\n",
    "if n is None:\n",
    "    n = np.ones_like(x).astype(np.int64)\n",
    "\n",
    "if c is None:\n",
    "    c = np.zeros_like(x).astype(np.int64)\n",
    "\n",
    "x_ = np.repeat(x, n)\n",
    "c_ = np.repeat(c, n).astype(np.int64)\n",
    "n_ = np.ones_like(x_).astype(np.int64)\n",
    "\n",
    "init = dist.parameter_initialiser(x_, c_, n_)\n",
    "fun  = lambda t : dist.neg_ll(x_, c_, n_, *t)\n",
    "#jac  = lambda t : dist.jacobian(x_, *t, c_, n_)\n",
    "if True:\n",
    "    jac = jacobian(fun)\n",
    "    hess = hessian(fun)\n",
    "    res = minimize(fun, init, method='trust-exact', jac=jac, hess=hess)\n",
    "else:\n",
    "    jac = lambda t : approx_fprime(t, fun, EPS)\n",
    "    res = minimize(fun, init, method='BFGS', jac=jac)"
   ]
  },
  {
   "cell_type": "code",
   "execution_count": 12,
   "metadata": {},
   "outputs": [
    {
     "data": {
      "text/plain": [
       "array([[0.00556641, 0.00256011],\n",
       "       [0.00256011, 0.01067182]])"
      ]
     },
     "execution_count": 12,
     "metadata": {},
     "output_type": "execute_result"
    }
   ],
   "source": [
    "res.hess"
   ]
  },
  {
   "cell_type": "code",
   "execution_count": 21,
   "metadata": {},
   "outputs": [],
   "source": []
  },
  {
   "cell_type": "code",
   "execution_count": 37,
   "metadata": {},
   "outputs": [
    {
     "data": {
      "text/plain": [
       "array([[ 0.69121163,  2.90245624],\n",
       "       [ 2.90245624, 14.63768502]])"
      ]
     },
     "execution_count": 37,
     "metadata": {},
     "output_type": "execute_result"
    }
   ],
   "source": [
    "var_r = model.res.hess_inv"
   ]
  },
  {
   "cell_type": "code",
   "execution_count": 4,
   "metadata": {},
   "outputs": [
    {
     "name": "stdout",
     "output_type": "stream",
     "text": [
      "initial MLE:  Normal   (3.515855393064993, 0.8491910032926702)\n",
      "Final MLE:  Normal   [3.51585539 0.849191  ]\n",
      "initial MLE:  LogNormal   (3.515855393064993, 0.8491910032926702)\n",
      "Final MLE:  LogNormal   [3.51585539 0.849191  ]\n"
     ]
    },
    {
     "data": {
      "text/plain": [
       "(3.515855393064993, 0.8491910032926702)"
      ]
     },
     "execution_count": 4,
     "metadata": {},
     "output_type": "execute_result"
    }
   ],
   "source": [
    "#x = par.LogNormal.random(100, 2, 0.4)\n",
    "model = par.LogNormal.fit(data)\n",
    "init = model.params\n",
    "init[0], init[1]"
   ]
  },
  {
   "cell_type": "code",
   "execution_count": 5,
   "metadata": {},
   "outputs": [],
   "source": [
    "n = 1000\n",
    "mean = 200\n",
    "std_dev = 10\n",
    "links = 1000\n",
    "\n",
    "chain_strength = np.random.gamma(scale=std_dev, shape=mean, size=(n, links)).min(axis=0)"
   ]
  },
  {
   "cell_type": "code",
   "execution_count": 7,
   "metadata": {},
   "outputs": [
    {
     "data": {
      "image/png": "[encoded data removed]",
      "text/plain": [
       "<Figure size 432x288 with 1 Axes>"
      ]
     },
     "metadata": {
      "needs_background": "light"
     },
     "output_type": "display_data"
    }
   ],
   "source": [
    "plt.hist(chain_strength, bins=n);"
   ]
  },
  {
   "cell_type": "markdown",
   "metadata": {},
   "source": [
    "That seems to be quite regularly distributed. What happens if we increase the number of links and the count of chains?\n"
   ]
  },
  {
   "cell_type": "code",
   "execution_count": 8,
   "metadata": {},
   "outputs": [],
   "source": [
    "links = 1000\n",
    "chain_strength = np.random.normal(loc=mean, scale=std_dev, size=(n, links)).min(axis=0)"
   ]
  },
  {
   "cell_type": "code",
   "execution_count": 9,
   "metadata": {},
   "outputs": [
    {
     "data": {
      "image/png": "[encoded data removed]",
      "text/plain": [
       "<Figure size 432x288 with 1 Axes>"
      ]
     },
     "metadata": {
      "needs_background": "light"
     },
     "output_type": "display_data"
    }
   ],
   "source": [
    "plt.hist(chain_strength, bins=n);"
   ]
  },
  {
   "cell_type": "markdown",
   "metadata": {},
   "source": [
    "This appears to be quite a regular distribution. If we get some information about this distribution we could know a lot about the strength of these chains.\n",
    "\n",
    "It turns out, that as the number of chains and links tend to infinity, the distribution converges to the 'Weibull' distribution. This is exactly analagous to the central limit theorem and the normal distribution. That is, as we get more and more samples, the mean of a set of random variables converges to the normal distribution. Whereas here we have shown that that the minimum converges to a Weibull distribution. Neat huh!\n",
    "\n",
    "But what is the weibull distribution?"
   ]
  },
  {
   "cell_type": "markdown",
   "metadata": {},
   "source": [
    "$$ F = 1 - e^{-({\\frac{x}{\\alpha}})^\\beta}  $$"
   ]
  },
  {
   "cell_type": "markdown",
   "metadata": {},
   "source": [
    "The above equation is the CDF for the Weibull distribution. For survival analysis, F is the probability of not surviving till x. Or put another way, it is the probability of dying (failing) before reaching x.\n",
    "\n",
    "For the equation above, x is the variable, alpha is the 'characteristic life' or scale parameter, and beta is the shape parameter.\n",
    "\n",
    "Let's use surpyval to fit a distribution."
   ]
  },
  {
   "cell_type": "code",
   "execution_count": 10,
   "metadata": {},
   "outputs": [],
   "source": [
    "import parametric as par"
   ]
  },
  {
   "cell_type": "code",
   "execution_count": 13,
   "metadata": {},
   "outputs": [],
   "source": [
    "#x = np.array([16, 34, 53, 75, 93, 120])\n",
    "x = par.Weibull.random(100, 45, 55)"
   ]
  },
  {
   "cell_type": "code",
   "execution_count": 14,
   "metadata": {},
   "outputs": [
    {
     "name": "stdout",
     "output_type": "stream",
     "text": [
      "initial MLE:  Gumbel   (3.800018466503699, 0.020578027155773553)\n",
      "Final MLE:  Gumbel   [3.80975072 0.01745806]\n",
      "initial MLE:  Weibull   (45.12185537240282, 58.697319219860475)\n",
      "Final MLE:  Weibull   [45.1391855  57.28012761]\n"
     ]
    },
    {
     "data": {
      "image/png": "[encoded data removed]",
      "text/plain": [
       "<Figure size 432x288 with 1 Axes>"
      ]
     },
     "metadata": {
      "needs_background": "light"
     },
     "output_type": "display_data"
    }
   ],
   "source": [
    "model = par.Weibull.fit(x, how=\"MLE\")\n",
    "xx = np.arange(np.min(x), np.max(x), 0.1)\n",
    "y = model.df(xx)\n",
    "plt.hist(x, density=True)\n",
    "plt.plot(xx, y, color='r');\n",
    "model.params;"
   ]
  },
  {
   "cell_type": "markdown",
   "metadata": {},
   "source": [
    "The above plot shows that the distribution we have made is a remarkable fit to our simulated data. It also turns out the Weibull distribution is one of three distributions as part of 'Extreme Value' statistics. The other distributions are the Gumbel and the Frechet (where the Frechet distribution models the maxmimum!). But this is not important for our survival analysis. \n",
    "\n",
    "The important fact for us is that the Weibull distribution is useful for modeling the strength (or reliability) in many scenarios.\n",
    "\n",
    "But we can see that it is extremely useful when trying to estimate the strength of objects"
   ]
  },
  {
   "cell_type": "markdown",
   "metadata": {},
   "source": [
    "### Finding Weibull Parameters"
   ]
  },
  {
   "cell_type": "markdown",
   "metadata": {},
   "source": [
    "The question now is, how do we find the parameters for the Weibull distribution?\n",
    "\n",
    "The SurPyval package allows users to use several methods, these are:\n",
    "- Plotting Positions\n",
    "- Method of Moments\n",
    "- Maximum Likelihood\n",
    "- Maximum Spacing Estimation\n",
    "\n",
    "The examples used for these will be for complete data."
   ]
  },
  {
   "cell_type": "code",
   "execution_count": 15,
   "metadata": {},
   "outputs": [],
   "source": [
    "import nonparametric as nonp\n",
    "import WeibullScale"
   ]
  },
  {
   "cell_type": "code",
   "execution_count": 16,
   "metadata": {},
   "outputs": [],
   "source": [
    "x = np.array([1, 2, 3, 4, 5, 6, 6, 7])\n",
    "c = None\n",
    "n = np.array([2, 3, 4, 4, 5, 6, 7, 1])\n",
    "c = np.array([0, 1, 0, 0, 1, 0, 1, 0])"
   ]
  },
  {
   "cell_type": "code",
   "execution_count": 17,
   "metadata": {},
   "outputs": [],
   "source": [
    "a = par.Gumbel.fit(np.log(x), c=c, n=n, how=\"MPP\")"
   ]
  },
  {
   "cell_type": "code",
   "execution_count": 18,
   "metadata": {},
   "outputs": [
    {
     "data": {
      "text/plain": [
       "(1.8510131937896173, 0.6191771855390528)"
      ]
     },
     "execution_count": 18,
     "metadata": {},
     "output_type": "execute_result"
    }
   ],
   "source": [
    "a.params"
   ]
  },
  {
   "cell_type": "code",
   "execution_count": 19,
   "metadata": {},
   "outputs": [
    {
     "data": {
      "text/plain": [
       "(array([1, 2, 3, 4, 5, 6, 6, 7]),\n",
       " array([0, 1, 0, 0, 1, 0, 1, 0]),\n",
       " array([2, 3, 4, 4, 5, 6, 7, 1]))"
      ]
     },
     "execution_count": 19,
     "metadata": {},
     "output_type": "execute_result"
    }
   ],
   "source": [
    "x, c, n"
   ]
  },
  {
   "cell_type": "code",
   "execution_count": 20,
   "metadata": {},
   "outputs": [
    {
     "name": "stdout",
     "output_type": "stream",
     "text": [
      "initial MLE:  Gumbel   (2.665002408942492, 0.508906973285325)\n",
      "Final MLE:  Gumbel   [1.85021202 0.38138223]\n",
      "initial MLE:  Weibull   (6.3611681041444985, 2.6220414123537013)\n",
      "Final MLE:  Weibull   [6.3611681  2.62204141]\n"
     ]
    }
   ],
   "source": [
    "a = par.Weibull.fit(x, c=c, n=n, how=\"MLE\")"
   ]
  },
  {
   "cell_type": "code",
   "execution_count": 21,
   "metadata": {},
   "outputs": [
    {
     "data": {
      "text/plain": [
       "(6.3611681041444985, 2.6220414123537013)"
      ]
     },
     "execution_count": 21,
     "metadata": {},
     "output_type": "execute_result"
    }
   ],
   "source": [
    "a.params"
   ]
  },
  {
   "cell_type": "code",
   "execution_count": 22,
   "metadata": {},
   "outputs": [],
   "source": [
    "x, r, d, R = nonp.nelson_aalen(x, c=c)"
   ]
  },
  {
   "cell_type": "code",
   "execution_count": 23,
   "metadata": {},
   "outputs": [
    {
     "name": "stdout",
     "output_type": "stream",
     "text": [
      "0.05 0.9\n"
     ]
    },
    {
     "data": {
      "image/png": "[encoded data removed]",
      "text/plain": [
       "<Figure size 432x288 with 1 Axes>"
      ]
     },
     "metadata": {
      "needs_background": "light"
     },
     "output_type": "display_data"
    }
   ],
   "source": [
    "plt.grid(True)\n",
    "plt.scatter(x, 1 - R)\n",
    "plt.yscale('weibull')\n",
    "plt.xscale('log')\n",
    "ax = plt.gca()\n",
    "ax.set_axisbelow(True)\n",
    "ax.set_ylim((0.05, .90));\n"
   ]
  },
  {
   "cell_type": "code",
   "execution_count": 24,
   "metadata": {},
   "outputs": [],
   "source": [
    "x = np.array([32, 33, 34, 35, 36, 37, 38, 39, 40, 42]) * 1.275\n",
    "n = np.array([10, 33, 81, 161, 224, 289, 336, 369, 383, 389])\n",
    "c = None\n",
    "# Mr Weibull's measurements are cumulative, so let's calculate the obervations at each point.\n",
    "n = np.concatenate([[n[0]], np.diff(n)])"
   ]
  },
  {
   "cell_type": "code",
   "execution_count": 25,
   "metadata": {},
   "outputs": [
    {
     "name": "stdout",
     "output_type": "stream",
     "text": [
      "initial MLE:  Weibull3p   (6.900793226559274, 2.012291266059257, 39.8)\n",
      "Final MLE:  Weibull3p   [ 7.14192526  2.62045242 39.76562959]\n",
      "(7.141925261015744, 2.62045242290675, 39.765629593531784)\n"
     ]
    },
    {
     "data": {
      "text/plain": [
       "      fun: 918.26408828147\n",
       " hess_inv: array([[ 0.18491659,  0.07455037, -0.14959126],\n",
       "       [ 0.07455037,  0.04052067, -0.06375495],\n",
       "       [-0.14959126, -0.06375495,  0.136033  ]])\n",
       "      jac: array([2.67094151e-07, 1.04671614e-07, 1.00713251e-07])\n",
       "  message: 'Optimization terminated successfully.'\n",
       "     nfev: 15\n",
       "      nit: 14\n",
       "     njev: 15\n",
       "   status: 0\n",
       "  success: True\n",
       "        x: array([ 7.14192526,  2.62045242, 39.76562959])"
      ]
     },
     "execution_count": 25,
     "metadata": {},
     "output_type": "execute_result"
    }
   ],
   "source": [
    "#xx = par.Weibull.random(10, 10, 200)\n",
    "weib_2p = par.Weibull3p.fit(x, n=n, how='MLE')\n",
    "print(weib_2p.params)\n",
    "weib_2p.res"
   ]
  },
  {
   "cell_type": "code",
   "execution_count": 26,
   "metadata": {},
   "outputs": [],
   "source": [
    "from scipy.special import gamma as gamma_func\n",
    "from scipy.special import gammainc, gammaincinv"
   ]
  },
  {
   "cell_type": "code",
   "execution_count": 102,
   "metadata": {},
   "outputs": [],
   "source": [
    "jac = np.vectorize(lambda x : approx_fprime(np.array([x]), par.Gamma.neg_ll, eps))"
   ]
  },
  {
   "cell_type": "code",
   "execution_count": 103,
   "metadata": {},
   "outputs": [
    {
     "data": {
      "text/plain": [
       "array([-0.57721565,  0.59970385,  1.84556869,  7.53670609])"
      ]
     },
     "execution_count": 103,
     "metadata": {},
     "output_type": "execute_result"
    }
   ],
   "source": [
    "df([1., 2.2, 3., 4.])"
   ]
  },
  {
   "cell_type": "code",
   "execution_count": 20,
   "metadata": {},
   "outputs": [
    {
     "data": {
      "image/png": "[encoded data removed]",
      "text/plain": [
       "<Figure size 432x288 with 1 Axes>"
      ]
     },
     "metadata": {
      "needs_background": "light"
     },
     "output_type": "display_data"
    }
   ],
   "source": [
    "x = np.array([23, 34, 45, 500, 500, 500])\n",
    "c = np.array([0, 0, 0, 1, 1, 1])\n",
    "\n",
    "x_, r, d, R = nonp.nelson_aalen(x, c=c)\n",
    "\n",
    "import WeibullScale\n",
    "\n",
    "plt.scatter(x_, 1 - R)\n",
    "plt.yscale('Weibull')\n",
    "plt.xscale('log')"
   ]
  },
  {
   "cell_type": "code",
   "execution_count": 61,
   "metadata": {},
   "outputs": [],
   "source": [
    "import pandas as pd"
   ]
  },
  {
   "cell_type": "code",
   "execution_count": 62,
   "metadata": {},
   "outputs": [],
   "source": [
    "test = pd.DataFrame({'t' : x, 'c' : c})#.to_csv('test.csv', index=False)"
   ]
  },
  {
   "cell_type": "code",
   "execution_count": 63,
   "metadata": {},
   "outputs": [
    {
     "data": {
      "text/html": [
       "<div>\n",
       "<style scoped>\n",
       "    .dataframe tbody tr th:only-of-type {\n",
       "        vertical-align: middle;\n",
       "    }\n",
       "\n",
       "    .dataframe tbody tr th {\n",
       "        vertical-align: top;\n",
       "    }\n",
       "\n",
       "    .dataframe thead th {\n",
       "        text-align: right;\n",
       "    }\n",
       "</style>\n",
       "<table border=\"1\" class=\"dataframe\">\n",
       "  <thead>\n",
       "    <tr style=\"text-align: right;\">\n",
       "      <th></th>\n",
       "      <th>t</th>\n",
       "      <th>c</th>\n",
       "    </tr>\n",
       "  </thead>\n",
       "  <tbody>\n",
       "    <tr>\n",
       "      <td>0</td>\n",
       "      <td>23</td>\n",
       "      <td>0</td>\n",
       "    </tr>\n",
       "    <tr>\n",
       "      <td>1</td>\n",
       "      <td>34</td>\n",
       "      <td>0</td>\n",
       "    </tr>\n",
       "    <tr>\n",
       "      <td>2</td>\n",
       "      <td>45</td>\n",
       "      <td>0</td>\n",
       "    </tr>\n",
       "    <tr>\n",
       "      <td>3</td>\n",
       "      <td>500</td>\n",
       "      <td>1</td>\n",
       "    </tr>\n",
       "    <tr>\n",
       "      <td>4</td>\n",
       "      <td>500</td>\n",
       "      <td>1</td>\n",
       "    </tr>\n",
       "    <tr>\n",
       "      <td>5</td>\n",
       "      <td>500</td>\n",
       "      <td>1</td>\n",
       "    </tr>\n",
       "  </tbody>\n",
       "</table>\n",
       "</div>"
      ],
      "text/plain": [
       "     t  c\n",
       "0   23  0\n",
       "1   34  0\n",
       "2   45  0\n",
       "3  500  1\n",
       "4  500  1\n",
       "5  500  1"
      ]
     },
     "execution_count": 63,
     "metadata": {},
     "output_type": "execute_result"
    }
   ],
   "source": [
    "test"
   ]
  },
  {
   "cell_type": "code",
   "execution_count": 64,
   "metadata": {},
   "outputs": [],
   "source": [
    "def get_x_r_d(t, c=None, n=None):\n",
    "    x = t.copy()\n",
    "    # Handle censoring\n",
    "    if c is None: c = np.zeros_like(x).astype(np.int64)\n",
    "    else: c.astype(np.int64, casting='safe')\n",
    "    assert c.shape == t.shape\n",
    "    assert not ((c != 1) & (c != 0)).any()\n",
    "    \n",
    "    # Handle counts\n",
    "    if n is not None:\n",
    "        n = n.astype(np.int64, casting='safe')\n",
    "        x = np.repeat(x, n)\n",
    "        c = np.repeat(c, n)\n",
    "    else:\n",
    "        n = np.ones_like(x).astype(np.int64)\n",
    "    assert n.shape == t.shape\n",
    "    assert (n > 0).all()\n",
    "\n",
    "    x, idx = np.unique(x, return_inverse=True)\n",
    "    \n",
    "    d = np.bincount(idx, weights=1 - c)\n",
    "    # do is drop outs\n",
    "    do = np.bincount(idx, weights=c)\n",
    "    r = n.sum() + d - d.cumsum() + do - do.cumsum()\n",
    "    r = r.astype(np.int64)\n",
    "    d = d.astype(np.int64)\n",
    "    return x, r, d"
   ]
  },
  {
   "cell_type": "code",
   "execution_count": 65,
   "metadata": {},
   "outputs": [
    {
     "data": {
      "text/plain": [
       "(array([ 23,  34,  45, 500]), array([6, 5, 4, 3]), array([1, 1, 1, 0]))"
      ]
     },
     "execution_count": 65,
     "metadata": {},
     "output_type": "execute_result"
    }
   ],
   "source": [
    "get_x_r_d(test['t'], c=test['c'])"
   ]
  },
  {
   "cell_type": "code",
   "execution_count": 26,
   "metadata": {},
   "outputs": [
    {
     "data": {
      "text/plain": [
       "False"
      ]
     },
     "execution_count": 26,
     "metadata": {},
     "output_type": "execute_result"
    }
   ],
   "source": [
    "test.isna().any().any()"
   ]
  },
  {
   "cell_type": "code",
   "execution_count": 27,
   "metadata": {},
   "outputs": [],
   "source": [
    "model = par.Weibull.fit(x, c=c, how='MPP')"
   ]
  },
  {
   "cell_type": "code",
   "execution_count": 28,
   "metadata": {},
   "outputs": [
    {
     "data": {
      "text/plain": [
       "(57.33363232986079, 1.9536382542712791)"
      ]
     },
     "execution_count": 28,
     "metadata": {},
     "output_type": "execute_result"
    }
   ],
   "source": [
    "model.params"
   ]
  },
  {
   "cell_type": "code",
   "execution_count": 29,
   "metadata": {},
   "outputs": [
    {
     "data": {
      "text/plain": [
       "<parametric.Parametric at 0x1a1c370790>"
      ]
     },
     "execution_count": 29,
     "metadata": {},
     "output_type": "execute_result"
    }
   ],
   "source": [
    "model"
   ]
  },
  {
   "cell_type": "code",
   "execution_count": 30,
   "metadata": {},
   "outputs": [],
   "source": [
    "import scipy\n",
    "import numpy as np\n",
    "from scipy.integrate import quad\n",
    "from scipy.optimize import minimize\n",
    "from scipy.stats import norm\n",
    "\n",
    "class NonRepairable():\n",
    "\n",
    "    def __init__(self, distribution):\n",
    "        self.dist = distribution\n",
    "        self.cost_rate = np.vectorize(self._cost_rate)\n",
    "\n",
    "    def set_costs_planned_and_unplanned(self, cp, cu):\n",
    "        self.cp = cp\n",
    "        self.cu = cu\n",
    "\n",
    "    def avg_replacement_time(self, t):\n",
    "        return quad(self.dist.sf, 0, t)[0]\n",
    "\n",
    "    def _cost_rate(self, t):\n",
    "        planned_costs = self.dist.sf(t) * self.cp\n",
    "        unplanned_costs = (1 - self.dist.sf(t)) * self.cu\n",
    "        avg_repl_time = self.avg_replacement_time(t)\n",
    "        print(avg_repl_time)\n",
    "        return (planned_costs + unplanned_costs) / avg_repl_time\n",
    "\n",
    "    def find_optimal_replacement(self):\n",
    "        init = self.dist.mean()\n",
    "        bounds = ((0, None),)\n",
    "        res = minimize(self._cost_rate, init, bounds=bounds)\n",
    "        self.optimisation_results = res\n",
    "        return res.x[0]"
   ]
  },
  {
   "cell_type": "code",
   "execution_count": 31,
   "metadata": {},
   "outputs": [],
   "source": [
    "model.params = (1.0432994845255468, 2.1619111027076143)"
   ]
  },
  {
   "cell_type": "code",
   "execution_count": 32,
   "metadata": {},
   "outputs": [
    {
     "data": {
      "text/plain": [
       "'Weibull'"
      ]
     },
     "execution_count": 32,
     "metadata": {},
     "output_type": "execute_result"
    }
   ],
   "source": [
    "model.dist.name"
   ]
  },
  {
   "cell_type": "code",
   "execution_count": 33,
   "metadata": {},
   "outputs": [],
   "source": [
    "nr = NonRepairable(model)"
   ]
  },
  {
   "cell_type": "code",
   "execution_count": 34,
   "metadata": {},
   "outputs": [
    {
     "data": {
      "text/plain": [
       "'Weibull'"
      ]
     },
     "execution_count": 34,
     "metadata": {},
     "output_type": "execute_result"
    }
   ],
   "source": [
    "nr.dist.dist.name"
   ]
  },
  {
   "cell_type": "code",
   "execution_count": 35,
   "metadata": {},
   "outputs": [],
   "source": [
    "nr.avg_replacement_time(10)\n",
    "nr.set_costs_planned_and_unplanned(2, 10)"
   ]
  },
  {
   "cell_type": "code",
   "execution_count": 36,
   "metadata": {},
   "outputs": [
    {
     "name": "stdout",
     "output_type": "stream",
     "text": [
      "0.9239497357806958\n",
      "0.9239497357806958\n",
      "0.9239497357808334\n",
      "0.9239497357810543\n"
     ]
    },
    {
     "data": {
      "text/plain": [
       "array([10.82309958, 10.82309958, 10.82309958])"
      ]
     },
     "execution_count": 36,
     "metadata": {},
     "output_type": "execute_result"
    }
   ],
   "source": [
    "nr.cost_rate([150, 154, 160])"
   ]
  },
  {
   "cell_type": "code",
   "execution_count": 37,
   "metadata": {},
   "outputs": [
    {
     "name": "stdout",
     "output_type": "stream",
     "text": [
      "0.7424329694346196\n",
      "0.7424329740693021\n",
      "0.0\n",
      "1e-08\n",
      "0.7424329694346196\n",
      "0.7424329740693021\n"
     ]
    },
    {
     "name": "stderr",
     "output_type": "stream",
     "text": [
      "/opt/anaconda3/lib/python3.7/site-packages/ipykernel_launcher.py:25: RuntimeWarning: divide by zero encountered in true_divide\n"
     ]
    },
    {
     "data": {
      "text/plain": [
       "0.9239497357791123"
      ]
     },
     "execution_count": 37,
     "metadata": {},
     "output_type": "execute_result"
    }
   ],
   "source": [
    "nr.find_optimal_replacement()"
   ]
  },
  {
   "cell_type": "code",
   "execution_count": 38,
   "metadata": {},
   "outputs": [
    {
     "data": {
      "text/plain": [
       "      fun: array([8.47518133])\n",
       " hess_inv: <1x1 LbfgsInvHessProduct with dtype=float64>\n",
       "      jac: array([3.69556457])\n",
       "  message: b'CONVERGENCE: REL_REDUCTION_OF_F_<=_FACTR*EPSMCH'\n",
       "     nfev: 6\n",
       "      nit: 1\n",
       "   status: 0\n",
       "  success: True\n",
       "        x: array([0.92394974])"
      ]
     },
     "execution_count": 38,
     "metadata": {},
     "output_type": "execute_result"
    }
   ],
   "source": [
    "nr.optimisation_results"
   ]
  },
  {
   "cell_type": "code",
   "execution_count": 39,
   "metadata": {},
   "outputs": [
    {
     "name": "stdout",
     "output_type": "stream",
     "text": [
      "0.12386017776203744\n",
      "0.12386017776203744\n",
      "0.12583209040384263\n",
      "0.12780330340473503\n",
      "0.12977380417560722\n",
      "0.1317435801088584\n",
      "0.13371261857909786\n",
      "0.13568090694383858\n",
      "0.1376484325441798\n",
      "0.13961518270548068\n",
      "0.14158114473802355\n",
      "0.1435463059376695\n",
      "0.14551065358650403\n",
      "0.14747417495347523\n",
      "0.149436857295024\n",
      "0.15139868785570637\n",
      "0.1533596538688084\n",
      "0.15531974255695455\n",
      "0.1572789411327086\n",
      "0.15923723679916862\n",
      "0.1611946167505549\n",
      "0.1631510681727928\n",
      "0.16510657824408861\n",
      "0.16706113413550056\n",
      "0.16901472301150391\n",
      "0.17096733203055087\n",
      "0.17291894834562535\n",
      "0.1748695591047928\n",
      "0.17681915145174504\n",
      "0.17876771252634074\n",
      "0.180715229465141\n",
      "0.1826616894019408\n",
      "0.18460707946829608\n",
      "0.18655138679404676\n",
      "0.18849459850783523\n",
      "0.19043670173762217\n",
      "0.19237768361119667\n",
      "0.19431753125668466\n",
      "0.19625623180305188\n",
      "0.1981937723806049\n",
      "0.20013014012148733\n",
      "0.20206532216017384\n",
      "0.20399930563395993\n",
      "0.2059320776834493\n",
      "0.2078636254530373\n",
      "0.2097939360913922\n",
      "0.2117229967519324\n",
      "0.21365079459330188\n",
      "0.21557731677984165\n",
      "0.21750255048205938\n",
      "0.21942648287709524\n",
      "0.22134910114918607\n",
      "0.223270392490126\n",
      "0.22519034409972524\n",
      "0.22710894318626532\n",
      "0.2290261769669529\n",
      "0.23094203266837024\n",
      "0.2328564975269238\n",
      "0.23476955878928968\n",
      "0.2366812037128578\n",
      "0.2385914195661725\n",
      "0.24050019362937194\n",
      "0.2424075131946243\n",
      "0.2443133655665625\n",
      "0.24621773806271605\n",
      "0.24812061801394092\n",
      "0.25002199276484777\n",
      "0.25192184967422726\n",
      "0.2538201761154732\n",
      "0.2557169594770048\n",
      "0.25761218716268514\n",
      "0.2595058465922389\n",
      "0.2613979252016675\n",
      "0.2632884104436621\n",
      "0.2651772897880149\n",
      "0.26706455072202845\n",
      "0.26895018075092253\n",
      "0.2708341673982397\n",
      "0.2727164982062482\n",
      "0.27459716073634394\n",
      "0.276476142569449\n",
      "0.27835343130641016\n",
      "0.2802290145683935\n",
      "0.282102879997279\n",
      "0.2839750152560514\n",
      "0.2858454080291911\n",
      "0.2877140460230616\n",
      "0.2895809169662958\n",
      "0.29144600861018033\n",
      "0.2933093087290383\n",
      "0.29517080512060967\n",
      "0.29703048560643\n",
      "0.29888833803220755\n",
      "0.3007443502681986\n",
      "0.3025985102095803\n",
      "0.3044508057768225\n",
      "0.30630122491605744\n",
      "0.3081497555994473\n",
      "0.30999638582555034\n",
      "0.3118411036196855\n",
      "0.313683897034294\n",
      "0.31552475414930087\n",
      "0.3173636630724728\n",
      "0.31920061193977606\n",
      "0.32103558891573075\n",
      "0.3228685821937648\n",
      "0.32469957999656524\n",
      "0.3265285705764278\n",
      "0.3283555422156053\n",
      "0.3301804832266532\n",
      "0.3320033819527742\n",
      "0.3338242267681607\n",
      "0.3356430060783356\n",
      "0.3374597083204906\n",
      "0.339274321963824\n",
      "0.3410868355098752\n",
      "0.3428972374928585\n",
      "0.3447055164799946\n",
      "0.34651166107184017\n",
      "0.34831565990261576\n",
      "0.3501175016405318\n",
      "0.3519171749881135\n",
      "0.3537146686825218\n",
      "0.3555099714958754\n",
      "0.35730307223556823\n",
      "0.35909395974458713\n",
      "0.3608826229018264\n",
      "0.3626690506224008\n",
      "0.36445323185795725\n",
      "0.3662351555969835\n",
      "0.3680148108651163\n",
      "0.36979218672544656\n",
      "0.3715672722788232\n",
      "0.37334005666415504\n",
      "0.3751105290587109\n",
      "0.3768786786784172\n",
      "0.3786444947781544\n",
      "0.3804079666520514\n",
      "0.3821690836337774\n",
      "0.3839278350968329\n",
      "0.3856842104548377\n",
      "0.3874381991618179\n",
      "0.3891897907124897\n",
      "0.39093897464254357\n",
      "0.3926857405289232\n",
      "0.3944300779901061\n",
      "0.3961719766863791\n",
      "0.397911426320114\n",
      "0.3996484166360401\n",
      "0.4013829374215157\n",
      "0.40311497850679656\n",
      "0.404844529765303\n",
      "0.4065715811138855\n",
      "0.40829612251308717\n",
      "0.410018143967405\n",
      "0.4117376355255491\n",
      "0.41345458728069934\n",
      "0.41516898937076124\n",
      "0.41688083197861786\n",
      "0.41859010533238195\n",
      "0.4202967997056443\n",
      "0.4220009054177209\n",
      "0.42370241283389776\n",
      "0.425401312365674\n",
      "0.42709759447100315\n",
      "0.42879124965453064\n",
      "0.4304822684678321\n",
      "0.43217064150964685\n",
      "0.4338563594261114\n",
      "0.4355394129109897\n",
      "0.4372197927059016\n",
      "0.438897489600549\n",
      "0.4405724944329407\n",
      "0.4422447980896148\n",
      "0.443914391505858\n",
      "0.4455812656659243\n",
      "0.447245411603251\n",
      "0.4489068204006723\n",
      "0.45056548319063117\n",
      "0.45222139115538873\n",
      "0.4538745355272324\n",
      "0.4555249075886808\n",
      "0.45717249867268656\n",
      "0.45881730016283845\n",
      "0.46045930349356007\n",
      "0.4620985001503062\n",
      "0.4637348816697578\n",
      "0.46536843964001473\n",
      "0.46699916570078637\n",
      "0.4686270515435788\n",
      "0.4702520889118825\n",
      "0.4718742696013546\n",
      "0.47349358546000225\n",
      "0.47511002838836064\n",
      "0.4767235903396718\n",
      "0.4783342633200588\n",
      "0.4799420393886998\n",
      "0.4815469106579978\n",
      "0.48314886929375006\n",
      "0.48474790751531444\n",
      "0.4863440175957739\n",
      "0.48793719186209833\n",
      "0.4895274226953042\n",
      "0.4911147025306128\n",
      "0.49269902385760583\n",
      "0.4942803792203777\n",
      "0.4958587612176878\n",
      "0.49743416250310896\n",
      "0.4990065757851736\n",
      "0.5005759938275187\n",
      "0.5021424094490282\n",
      "0.5037058155239722\n",
      "0.5052662049821456\n",
      "0.506823570809003\n",
      "0.5083779060457924\n",
      "0.509929203789686\n",
      "0.5114774571939096\n",
      "0.5130226594678684\n",
      "0.5145648038772719\n",
      "0.5161038837442563\n",
      "0.5176398924475036\n",
      "0.5191728234223603\n",
      "0.5207026701609518\n",
      "0.5222294262122964\n",
      "0.523753085182416\n",
      "0.5252736407344446\n",
      "0.526791086588735\n",
      "0.5283054165229627\n",
      "0.529816624372229\n",
      "0.5313247040291588\n",
      "0.5328296494439998\n",
      "0.534331454624717\n",
      "0.535830113637086\n",
      "0.5373256206047834\n",
      "0.5388179697094753\n",
      "0.5403071551909038\n",
      "0.5417931713469715\n",
      "0.5432760125338221\n",
      "0.5447556731659207\n",
      "0.546232147716131\n",
      "0.5477054307157907\n",
      "0.549175516754783\n",
      "0.550642400481609\n",
      "0.5521060766034539\n",
      "0.5535665398862554\n",
      "0.5550237851547657\n",
      "0.5564778072926135\n",
      "0.5579286012423642\n",
      "0.5593761620055762\n",
      "0.5608204846428556\n",
      "0.5622615642739095\n",
      "0.5636993960775964\n",
      "0.5651339752919737\n",
      "0.5665652972143448\n",
      "0.5679933572013012\n",
      "0.5694181506687658\n",
      "0.5708396730920309\n",
      "0.5722579200057961\n",
      "0.5736728870042026\n",
      "0.5750845697408659\n",
      "0.5764929639289063\n",
      "0.5778980653409781\n",
      "0.5792998698092937\n",
      "0.5806983732256488\n",
      "0.5820935715414438\n",
      "0.5834854607677031\n",
      "0.5848740369750923\n",
      "0.5862592962939329\n",
      "0.5876412349142157\n",
      "0.5890198490856119\n",
      "0.5903951351174798\n",
      "0.5917670893788729\n",
      "0.5931357082985436\n",
      "0.5945009883649447\n",
      "0.5958629261262292\n",
      "0.5972215181902486\n",
      "0.598576761224548\n",
      "0.5999286519563592\n",
      "0.6012771871725924\n",
      "0.6026223637198246\n",
      "0.6039641785042871\n",
      "0.6053026284918501\n",
      "0.6066377107080052\n",
      "0.6079694222378458\n",
      "0.6092977602260458\n",
      "0.610622721876836\n",
      "0.6119443044539777\n",
      "0.6132625052807354\n",
      "0.6145773217398465\n",
      "0.6158887512734887\n",
      "0.6171967913832468\n",
      "0.6185014396300756\n",
      "0.6198026936342617\n",
      "0.6211005510753832\n",
      "0.6223950096922675\n",
      "0.6236860672829457\n",
      "0.6249737217046074\n",
      "0.6262579708735504\n",
      "0.627538812765132\n",
      "0.6288162454137142\n",
      "0.6300902669126105\n",
      "0.6313608754140282\n",
      "0.6326280691290097\n",
      "0.6338918463273725\n",
      "0.6351522053376453\n",
      "0.6364091445470039\n",
      "0.637662662401204\n",
      "0.6389127574045129\n",
      "0.6401594281196382\n",
      "0.6414026731676559\n",
      "0.6426424912279344\n",
      "0.6438788810380591\n",
      "0.6451118413937539\n",
      "0.6463413711487995\n",
      "0.6475674692149521\n",
      "0.6487901345618585\n",
      "0.6500093662169703\n",
      "0.6512251632654552\n",
      "0.6524375248501074\n",
      "0.6536464501712551\n",
      "0.6548519384866676\n",
      "0.6560539891114585\n",
      "0.6572526014179892\n",
      "0.6584477748357683\n",
      "0.6596395088513516\n",
      "0.6608278030082383\n",
      "0.6620126569067657\n",
      "0.6631940702040033\n",
      "0.6643720426136442\n",
      "0.6655465739058941\n",
      "0.6667176639073588\n",
      "0.6678853125009315\n",
      "0.6690495196256767\n",
      "0.6702102852767121\n",
      "0.6713676095050898\n",
      "0.672521492417675\n",
      "0.673671934177024\n",
      "0.6748189350012588\n",
      "0.6759624951639415\n",
      "0.6771026149939465\n",
      "0.67823929487533\n",
      "0.6793725352472\n",
      "0.6805023366035825\n",
      "0.6816286994932867\n",
      "0.68275162451977\n",
      "0.6838711123409981\n",
      "0.6849871636693069\n",
      "0.6860997792712606\n",
      "0.6872089599675092\n",
      "0.6883147066326438\n",
      "0.6894170201950505\n",
      "0.6905159016367629\n",
      "0.6916113519933133\n",
      "0.6927033723535805\n",
      "0.693791963859639\n",
      "0.6948771277066045\n",
      "0.6959588651424783\n",
      "0.6970371774679903\n",
      "0.6981120660364404\n",
      "0.6991835322535397\n",
      "0.7002515775772469\n",
      "0.7013162035176072\n",
      "0.7023774116365868\n",
      "0.703435203547908\n",
      "0.70448958091688\n",
      "0.7055405454602325\n",
      "0.7065880989459432\n",
      "0.7076322431930676\n",
      "0.7086729800715662\n",
      "0.709710311502128\n",
      "0.7107442394559972\n",
      "0.7117747659547947\n",
      "0.712801893070339\n",
      "0.7138256229244677\n",
      "0.7148459576888555\n",
      "0.7158628995848312\n",
      "0.7168764508831947\n",
      "0.7178866139040311\n",
      "0.7188933910165247\n",
      "0.7198967846387708\n",
      "0.7208967972375872\n",
      "0.7218934313283234\n",
      "0.7228866894746693\n",
      "0.7238765742884627\n",
      "0.7248630884294949\n",
      "0.725846234605315\n",
      "0.7268260155710358\n",
      "0.7278024341291323\n",
      "0.7287754931292476\n",
      "0.7297451954679894\n",
      "0.7307115440887301\n",
      "0.7316745419814055\n",
      "0.7326341921823101\n",
      "0.7335904977738935\n",
      "0.7345434618845548\n",
      "0.7354930876884359\n",
      "0.7364393784052137\n",
      "0.7373823372998912\n",
      "0.7383219676825888\n",
      "0.7392582729083322\n",
      "0.7401912563768404\n",
      "0.7411209215323146\n",
      "0.7420472718632222\n",
      "0.7429703109020838\n",
      "0.7438900422252553\n",
      "0.7448064694527139\n",
      "0.7457195962478375\n",
      "0.7466294263171876\n",
      "0.7475359634102899\n",
      "0.7484392113194125\n",
      "0.7493391738793459\n",
      "0.7502358549671797\n",
      "0.7511292585020798\n",
      "0.7520193884386901\n",
      "0.7529062487923626\n",
      "0.7537898436008121\n",
      "0.7546701769492613\n",
      "0.7555472529638796\n",
      "0.756421075811557\n",
      "0.7572916496996731\n",
      "0.758158978875869\n",
      "0.759023067627816\n",
      "0.7598839202829847\n",
      "0.7607415412084125\n",
      "0.7615959348104713\n",
      "0.7624471055346348\n",
      "0.7632950578652429\n",
      "0.7641397963252676\n",
      "0.764981325476078\n",
      "0.7658196499172041\n",
      "0.766654774286099\n",
      "0.7674867032579027\n",
      "0.7683154415452035\n",
      "0.7691409938977992\n",
      "0.7699633651024589\n",
      "0.7707825599826816\n",
      "0.7715985833984567\n",
      "0.7724114402460235\n",
      "0.7732211354576288\n",
      "0.7740276740012859\n",
      "0.7748310608805304\n",
      "0.7756313011341791\n",
      "0.776428399836085\n",
      "0.7772223620948939\n",
      "0.7780131930537999\n",
      "0.7788008978903003\n",
      "0.7795854818159502\n",
      "0.7803669500761167\n",
      "0.7811453079497326\n",
      "0.7819205607490498\n",
      "0.782692713819392\n",
      "0.7834617725389077\n",
      "0.7842277423183222\n",
      "0.7849906286006888\n",
      "0.7857504368611414\n",
      "0.7865071726066448\n",
      "0.7872608413757463\n",
      "0.7880114487383248\n",
      "0.7887590002953424\n",
      "0.7895035016785941\n",
      "0.7902449585504567\n",
      "0.7909833766036393\n",
      "0.7917187615609316\n",
      "0.7924511191749526\n",
      "0.7931804552279009\n",
      "0.7939067755313014\n",
      "0.7946300859257539\n",
      "0.7953503922806823\n",
      "0.7960677004940813\n",
      "0.796782016492265\n",
      "0.7974933462296141\n",
      "0.7982016956883229\n",
      "0.7989070708781477\n",
      "0.7996094778361538\n",
      "0.8003089226264615\n",
      "0.8010054113399945\n",
      "0.8016989500942262\n",
      "0.8023895450329268\n",
      "0.8030772023259101\n",
      "0.8037619281687793\n",
      "0.8044437287826761\n",
      "0.8051226104140252\n",
      "0.8057985793342818\n",
      "0.8064716418396789\n",
      "0.8071418042509726\n",
      "0.8078090729131904\n",
      "0.8084734541953773\n",
      "0.8091349544903426\n",
      "0.8097935802144064\n",
      "0.8104493378071482\n",
      "0.8111022337311514\n",
      "0.8117522744717529\n",
      "0.8123994665367891\n",
      "0.8130438164563432\n",
      "0.8136853307824932\n",
      "0.8143240160890591\n",
      "0.8149598789713512\n",
      "0.8155929260459172\n",
      "0.8162231639502915\n",
      "0.816850599342742\n",
      "0.8174752389020192\n",
      "0.8180970893271065\n",
      "0.818716157336966\n",
      "0.8193324496702903\n",
      "0.8199459730852496\n",
      "0.8205567343592441\n",
      "0.8211647402886504\n",
      "0.8217699976885746\n",
      "0.8223725133926012\n",
      "0.8229722942525437\n",
      "0.8235693471381964\n",
      "0.8241636789370848\n",
      "0.8247552965542173\n",
      "0.8253442069118384\n",
      "0.8259304169491788\n",
      "0.82651393362221\n",
      "0.8270947639033952\n",
      "0.8276729147814448\n",
      "0.8282483932610685\n",
      "0.8288212063627305\n",
      "0.8293913611224026\n",
      "0.8299588645913205\n",
      "0.8305237238357381\n",
      "0.8310859459366837\n",
      "0.8316455379897161\n",
      "0.8322025071046806\n",
      "0.8327568604054676\n",
      "0.8333086050297676\n",
      "0.833857748128832\n",
      "0.834404296867229\n",
      "0.8349482584226045\n",
      "0.8354896399854406\n",
      "0.8360284487588152\n",
      "0.8365646919581635\n",
      "0.8370983768110383\n",
      "0.8376295105568711\n",
      "0.8381581004467356\n",
      "0.8386841537431088\n",
      "0.8392076777196346\n",
      "0.8397286796608887\n",
      "0.8402471668621403\n",
      "0.8407631466291203\n",
      "0.8412766262777841\n",
      "0.8417876131340789\n",
      "0.8422961145337101\n",
      "0.842802137821909\n",
      "0.8433056903532001\n",
      "0.8438067794911703\n",
      "0.8443054126082374\n",
      "0.8448015970854212\n",
      "0.8452953403121124\n",
      "0.8457866496858448\n",
      "0.8462755326120672\n",
      "0.8467619965039155\n",
      "0.847246048781986\n",
      "0.8477276968741099\n",
      "0.8482069482151267\n",
      "0.8486838102466612\n",
      "0.8491582904168977\n",
      "0.8496303961803584\n",
      "0.85010013499768\n",
      "0.8505675143353919\n",
      "0.8510325416656956\n",
      "0.8514952244662443\n",
      "0.8519555702199232\n",
      "0.8524135864146313\n",
      "0.8528692805430622\n",
      "0.8533226601024887\n",
      "0.8537737325945451\n",
      "0.8542225055250114\n",
      "0.8546689864035999\n",
      "0.8551131827437395\n",
      "0.855555102062364\n",
      "0.8559947518796982\n",
      "0.856432139719048\n",
      "0.8568672731065883\n",
      "0.8573001595711536\n",
      "0.8577308066440291\n",
      "0.858159221858742\n",
      "0.8585854127508556\n",
      "0.85900938685776\n",
      "0.8594311517184697\n",
      "0.8598507148734158\n",
      "0.8602680838642449\n",
      "0.860683266233614\n",
      "0.8610962695249895\n",
      "0.8615071012824449\n",
      "0.861915769050462\n",
      "0.86232228037373\n",
      "0.8627266427969481\n",
      "0.8631288638646268\n",
      "0.8635289511208917\n",
      "0.8639269121092881\n",
      "0.8643227543725855\n",
      "0.8647164854525842\n",
      "0.8651081128899214\n",
      "0.8654976442238806\n",
      "0.8658850869921985\n",
      "0.8662704487308769\n",
      "0.8666537369739922\n",
      "0.8670349592535076\n",
      "0.8674141230990853\n",
      "0.8677912360379006\n",
      "0.8681663055944568\n",
      "0.8685393392904001\n",
      "0.868910344644336\n",
      "0.8692793291716487\n",
      "0.8696463003843171\n",
      "0.870011265790736\n",
      "0.8703742328955357\n",
      "0.8707352091994047\n",
      "0.871094202198911\n",
      "0.871451219386326\n",
      "0.871806268249449\n",
      "0.8721593562714332\n",
      "0.8725104909306113\n",
      "0.8728596797003243\n",
      "0.8732069300487486\n",
      "0.8735522494387264\n",
      "0.8738956453275967\n",
      "0.8742371251670262\n",
      "0.8745766964028421\n",
      "0.8749143664748661\n",
      "0.8752501428167484\n",
      "0.8755840328558048\n",
      "0.8759160440128524\n",
      "0.876246183702047\n",
      "0.8765744593307241\n",
      "0.8769008782992359\n",
      "0.877225448000795\n",
      "0.8775481758213148\n",
      "0.8778690691392528\n",
      "0.8781881353254554\n",
      "0.8785053817430017\n",
      "0.8788208157470523\n",
      "0.8791344446846932\n",
      "0.8794462758947874\n",
      "0.8797563167078217\n",
      "0.8800645744457591\n",
      "0.8803710564218894\n",
      "0.8806757699406821\n",
      "0.8809787222976397\n",
      "0.8812799207791532\n",
      "0.8815793726623574\n",
      "0.881877085214988\n",
      "0.8821730656952391\n",
      "0.882467321351623\n",
      "0.8827598594228303\n",
      "0.88305068713759\n",
      "0.8833398117145335\n",
      "0.883627240362056\n",
      "0.8839129802781831\n",
      "0.8841970386504341\n",
      "0.8844794226556905\n",
      "0.8847601394600624\n",
      "0.885039196218758\n",
      "0.8853166000759531\n",
      "0.8855923581646615\n",
      "0.8858664776066087\n",
      "0.886138965512103\n",
      "0.8864098289799107\n",
      "0.8866790750971316\n",
      "0.8869467109390743\n",
      "0.8872127435691344\n",
      "0.8874771800386735\n",
      "0.8877400273868967\n",
      "0.8880012926407364\n",
      "0.888260982814731\n",
      "0.8885191049109091\n",
      "0.8887756659186743\n",
      "0.889030672814688\n",
      "0.889284132562758\n",
      "0.889536052113723\n",
      "0.8897864384053427\n",
      "0.8900352983621871\n",
      "0.8902826388955255\n",
      "0.8905284669032192\n",
      "0.8907727892696135\n",
      "0.8910156128654316\n",
      "0.8912569445476687\n",
      "0.8914967911594889\n",
      "0.8917351595301203\n",
      "0.8919720564747549\n",
      "0.8922074887944454\n",
      "0.8924414632760076\n",
      "0.8926739866919199\n",
      "0.8929050658002249\n",
      "0.8931347073444351\n",
      "0.8933629180534344\n",
      "0.893589704641386\n",
      "0.893815073807636\n",
      "0.8940390322366241\n",
      "0.8942615865977892\n",
      "0.8944827435454811\n",
      "0.8947025097188693\n",
      "0.8949208917418572\n",
      "0.8951378962229918\n",
      "0.8953535297553801\n",
      "0.8955677989166024\n",
      "0.8957807102686287\n",
      "0.8959922703577359\n",
      "0.896202485714425\n",
      "0.896411362853341\n",
      "0.8966189082731917\n",
      "0.8968251284566706\n",
      "0.8970300298703778\n",
      "0.8972336189647423\n",
      "0.8974359021739482\n",
      "0.8976368859158588\n",
      "0.8978365765919424\n",
      "0.8980349805872002\n",
      "0.8982321042700945\n",
      "0.8984279539924774\n",
      "0.8986225360895219\n",
      "0.8988158568796525\n",
      "0.899007922664478\n",
      "0.8991987397287244\n",
      "0.8993883143401689\n",
      "0.8995766527495764\n",
      "0.8997637611906344\n",
      "0.8999496458798911\n",
      "0.9001343130166933\n",
      "0.9003177687831264\n",
      "0.9005000193439532\n",
      "0.9006810708465565\n",
      "0.9008609294208807\n",
      "0.901039601179375\n",
      "0.9012170922169374\n",
      "0.9013934086108605\n",
      "0.9015685564207766\n",
      "0.9017425416886055\n",
      "0.9019153704385023\n",
      "0.9020870486768059\n",
      "0.9022575823919896\n",
      "0.9024269775546117\n",
      "0.902595240117267\n",
      "0.9027623760145398\n",
      "0.9029283911629583\n",
      "0.9030932914609473\n",
      "0.9032570827887857\n",
      "0.9034197710085625\n",
      "0.9035813619641331\n",
      "0.9037418614810788\n",
      "0.9039012753666658\n",
      "0.9040596094098055\n",
      "0.9042168693810143\n",
      "0.9043730610323779\n",
      "0.9045281900975116\n",
      "0.9046822622915263\n",
      "0.9048352833109916\n",
      "0.9049872588339013\n",
      "0.9051381945196421\n",
      "0.905288096008958\n",
      "0.90543696892392\n",
      "0.905584818867895\n",
      "0.9057316514255158\n",
      "0.9058774721626518\n",
      "0.9060222866263805\n",
      "0.9061661003449603\n",
      "0.9063089188278037\n",
      "0.9064507475654521\n",
      "0.9065915920295495\n",
      "0.9067314576728207\n",
      "0.9068703499290451\n",
      "0.9070082742130378\n",
      "0.9071452359206238\n",
      "0.9072812404286221\n",
      "0.9074162930948216\n",
      "0.9075503992579643\n",
      "0.9076835642377261\n",
      "0.9078157933347\n",
      "0.9079470918303787\n",
      "0.9080774649871393\n",
      "0.9082069180482275\n",
      "0.9083354562377441\n",
      "0.9084630847606321\n",
      "0.9085898088026605\n",
      "0.9087156335304175\n",
      "0.9088405640912954\n",
      "0.9089646056134818\n",
      "0.9090877632059498\n",
      "0.9092100419584486\n",
      "0.9093314469414959\n",
      "0.909451983206371\n",
      "0.909571655785107\n",
      "0.9096904696904853\n",
      "0.909808429916031\n",
      "0.9099255414360079\n",
      "0.9100418092054154\n",
      "0.910157238159985\n",
      "0.910271833216178\n",
      "0.9103855992711845\n",
      "0.9104985412029222\n",
      "0.9106106638700365\n",
      "0.9107219721119004\n",
      "0.9108324707486177\n",
      "0.9109421645810216\n",
      "0.9110510583906816\n",
      "0.9111591569399025\n",
      "0.9112664649717324\n",
      "0.9113729872099646\n",
      "0.9114787283591438\n",
      "0.911583693104573\n",
      "0.9116878861123184\n",
      "0.9117913120292189\n",
      "0.911893975482892\n",
      "0.9119958810817441\n",
      "0.9120970334149782\n",
      "0.9121974370526056\n",
      "0.9122970965454549\n",
      "0.9123960164251843\n",
      "0.9124942012042923\n",
      "0.9125916553761311\n",
      "0.9126883834149184\n",
      "0.912784389775753\n",
      "0.9128796788946272\n",
      "0.9129742551884414\n",
      "0.9130681230550223\n",
      "0.9131612868731345\n",
      "0.913253751002502\n",
      "0.9133455197838208\n",
      "0.9134365975387803\n",
      "0.9135269885700784\n",
      "0.9136166971614436\n",
      "0.9137057275776519\n",
      "0.9137940840645477\n",
      "0.9138817708490644\n",
      "0.913968792139246\n",
      "0.9140551521242672\n",
      "0.9141408549744567\n",
      "0.9142259048413199\n",
      "0.9143103058575615\n",
      "0.9143940621371098\n",
      "0.9144771777751406\n",
      "0.9145596568481023\n",
      "0.9146415034137403\n",
      "0.9147227215111242\n",
      "0.9148033151606729\n",
      "0.9148832883641811\n",
      "0.9149626451048485\n",
      "0.9150413893473044\n",
      "0.9151195250376393\n",
      "0.9151970561034315\n",
      "0.9152739864537759\n",
      "0.9153503199793153\n",
      "0.9154260605522695\n",
      "0.9155012120264656\n",
      "0.9155757782373697\n",
      "0.9156497630021176\n",
      "0.915723170119547\n",
      "0.9157960033702301\n",
      "0.9158682665165057\n",
      "0.915939963302513\n",
      "0.9160110974542246\n",
      "0.916081672679481\n",
      "0.9161516926680251\n",
      "0.916221161091536\n",
      "0.9162900816036655\n",
      "0.9163584578400734\n",
      "0.9164262934184629\n",
      "0.9164935919386179\n",
      "0.9165603569824388\n",
      "0.9166265921139806\n",
      "0.9166923008794902\n",
      "0.9167574868074445\n",
      "0.9168221534085875\n",
      "0.9168863041759715\n",
      "0.9169499425849931\n",
      "0.9170130720934345\n",
      "0.9170756961415034\n",
      "0.9171378181518722\n",
      "0.917199441529718\n",
      "0.9172605696627651\n",
      "0.9173212059213247\n",
      "0.9173813536583361\n",
      "0.9174410162094101\n",
      "0.9175001968928691\n",
      "0.9175588990097912\n",
      "0.9176171258440513\n",
      "0.9176748806623658\n",
      "0.9177321667143341\n",
      "0.9177889872324838\n",
      "0.9178453454323133\n",
      "0.9179012445123376\n",
      "0.9179566876541302\n",
      "0.9180116780223713\n",
      "0.9180662187648895\n",
      "0.9181203130063422\n",
      "0.9181739638737074\n",
      "0.9182271744581907\n",
      "0.9182799478406765\n",
      "0.9183322870854285\n",
      "0.9183841952401357\n",
      "0.9184356753359593\n",
      "0.9184867303875811\n",
      "0.9185373633932494\n",
      "0.9185875773348263\n",
      "0.9186373751778377\n",
      "0.9186867598715189\n",
      "0.918735734348864\n",
      "0.9187843015266747\n",
      "0.9188324643056084\n",
      "0.9188802255702269\n",
      "0.9189275881890465\n",
      "0.9189745550145862\n",
      "0.919021128883418\n",
      "0.9190673126162172\n",
      "0.9191131090178097\n",
      "0.9191585208772256\n",
      "0.919203550967747\n",
      "0.9192482020469597\n",
      "0.9192924768568032\n",
      "0.9193363781236217\n",
      "0.9193799085582155\n",
      "0.9194230708558921\n",
      "0.9194658676965164\n",
      "0.9195083017445635\n",
      "0.9195503756491702\n",
      "0.9195920920441865\n",
      "0.9196334535482271\n",
      "0.9196744627647245\n",
      "0.9197151222819804\n",
      "0.919755434673218\n",
      "0.9197954024966357\n",
      "0.9198350282954584\n",
      "0.9198743145979908\n",
      "0.9199132639176703\n",
      "0.91995187875312\n",
      "0.9199901615882015\n",
      "0.920028114892069\n",
      "0.9200657411192217\n",
      "0.9201030427095578\n",
      "0.9201400220884275\n",
      "0.9201766816666879\n",
      "0.9202130238407547\n",
      "0.9202490509926582\n",
      "0.9202847654900966\n",
      "0.9203201696864884\n",
      "0.9203552659210289\n",
      "0.9203900565187433\n",
      "0.9204245437905405\n",
      "0.9204587300332685\n",
      "0.920492617529768\n",
      "0.920526208548927\n",
      "0.920559505345736\n",
      "0.9205925101613418\n",
      "0.9206252252231024\n",
      "0.9206576527446422\n",
      "0.9206897949259056\n",
      "0.9207216539532141\n",
      "0.9207532319993181\n",
      "0.9207845312234548\n",
      "0.9208155537714007\n",
      "0.9208463017755282\n",
      "0.9208767773548603\n",
      "0.920906982615125\n",
      "0.9209369196488119\n",
      "0.9209665905352249\n",
      "0.9209959973405402\n",
      "0.9210251421178587\n",
      "0.9210540269072638\n",
      "0.9210826537358746\n",
      "0.921111024617902\n",
      "0.9211391415547039\n",
      "0.9211670065348403\n",
      "0.9211946215341285\n",
      "0.9212219885156983\n",
      "0.9212491094300481\n",
      "0.9212759862150983\n",
      "0.9213026207962485\n",
      "0.9213290150864313\n",
      "0.9213551709861687\n",
      "0.9213810903836261\n",
      "0.9214067751546684\n",
      "0.9214322271629147\n",
      "0.9214574482597944\n",
      "0.9214824402846001\n",
      "0.921507205064545\n",
      "0.9215317444148174\n",
      "0.921556060138635\n",
      "0.9215801540273008\n",
      "0.9216040278602569\n",
      "0.9216276834051411\n",
      "0.9216511224178404\n",
      "0.921674346642547\n",
      "0.9216973578118115\n",
      "0.9217201576466\n",
      "0.9217427478563467\n",
      "0.9217651301390093\n",
      "0.9217873061811244\n",
      "0.9218092776578607\n",
      "0.9218310462330752\n",
      "0.9218526135593654\n",
      "0.9218739812781263\n",
      "0.921895151019603\n",
      "0.9219161244029449\n",
      "0.9219369030362612\n",
      "0.9219574885166737\n",
      "0.9219778824303722\n",
      "0.9219980863526663\n",
      "0.9220181018480427\n"
     ]
    }
   ],
   "source": [
    "cost_curve_x = np.linspace(model.qf(0.01), model.qf(0.99), num=1000)\n",
    "cost_curve_y = nr.cost_rate(cost_curve_x)"
   ]
  },
  {
   "cell_type": "code",
   "execution_count": 40,
   "metadata": {},
   "outputs": [
    {
     "data": {
      "text/plain": [
       "7.3947415529819045"
      ]
     },
     "execution_count": 40,
     "metadata": {},
     "output_type": "execute_result"
    }
   ],
   "source": [
    "np.min(cost_curve_y)"
   ]
  },
  {
   "cell_type": "code",
   "execution_count": null,
   "metadata": {},
   "outputs": [],
   "source": []
  }
 ],
 "metadata": {
  "kernelspec": {
   "display_name": "Python 3",
   "language": "python",
   "name": "python3"
  },
  "language_info": {
   "codemirror_mode": {
    "name": "ipython",
    "version": 3
   },
   "file_extension": ".py",
   "mimetype": "text/x-python",
   "name": "python",
   "nbconvert_exporter": "python",
   "pygments_lexer": "ipython3",
   "version": "3.7.4"
  }
 },
 "nbformat": 4,
 "nbformat_minor": 4
}
