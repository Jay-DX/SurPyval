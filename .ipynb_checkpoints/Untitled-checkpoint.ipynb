{
 "cells": [
  {
   "cell_type": "code",
   "execution_count": 1,
   "metadata": {},
   "outputs": [],
   "source": [
    "import numpy as np\n",
    "import nonparametric as nonp\n",
    "import parametric as p"
   ]
  },
  {
   "cell_type": "code",
   "execution_count": 2,
   "metadata": {},
   "outputs": [],
   "source": [
    "beta = 0.5\n",
    "alpha = 1000\n",
    "x = np.random.weibull(beta, 100) * alpha"
   ]
  },
  {
   "cell_type": "code",
   "execution_count": 3,
   "metadata": {},
   "outputs": [],
   "source": [
    "x = np.array([1.0, 2.0, 2, 3, 4, 5, 5, 6, 6, 7, 7, 8, 9, 3.0, 4.0, 5.0, 5.0, 6.0, 7.0, 9.0, 10.0, 15.0, 16, 16, 17, 18, 18, 19, 16.0, 17.0, 17.0, 18.0, 19.0, 20.0])"
   ]
  },
  {
   "cell_type": "code",
   "execution_count": 4,
   "metadata": {},
   "outputs": [],
   "source": [
    "wmm = p.WMM(data=x, n=2)"
   ]
  },
  {
   "cell_type": "code",
   "execution_count": 5,
   "metadata": {},
   "outputs": [
    {
     "name": "stdout",
     "output_type": "stream",
     "text": [
      "[4.588235294117647, 15.411764705882353]\n",
      "[1.0, 1.0]\n",
      "[0.5 0.5]\n",
      "Done\n"
     ]
    }
   ],
   "source": [
    "print(wmm)"
   ]
  },
  {
   "cell_type": "code",
   "execution_count": 6,
   "metadata": {},
   "outputs": [],
   "source": [
    "wmm.fit()"
   ]
  },
  {
   "cell_type": "code",
   "execution_count": 9,
   "metadata": {},
   "outputs": [
    {
     "name": "stdout",
     "output_type": "stream",
     "text": [
      "[ 6.12323618 18.0352236 ]\n",
      "[ 2.42137033 13.41556829]\n",
      "[0.6178571 0.3821429]\n",
      "Done\n"
     ]
    }
   ],
   "source": [
    "print(wmm)"
   ]
  },
  {
   "cell_type": "code",
   "execution_count": 10,
   "metadata": {},
   "outputs": [
    {
     "data": {
      "text/plain": [
       "9.465089123501187"
      ]
     },
     "execution_count": 10,
     "metadata": {},
     "output_type": "execute_result"
    }
   ],
   "source": [
    "wmm.mean()"
   ]
  },
  {
   "cell_type": "code",
   "execution_count": 15,
   "metadata": {},
   "outputs": [],
   "source": [
    "model = wmm"
   ]
  },
  {
   "cell_type": "code",
   "execution_count": 14,
   "metadata": {},
   "outputs": [
    {
     "data": {
      "text/plain": [
       "'Math.exp(-Math.pow((x/324), 234)) helodf'"
      ]
     },
     "execution_count": 14,
     "metadata": {},
     "output_type": "execute_result"
    }
   ],
   "source": [
    "str(model.w[0]) + \"*Math.exp(-Math.pow((x/\" + str(model.alphas[0]) + \"), \" + str(model.betas[0]) + \"))\" + \\\n",
    "str(model.w[1]) + \"*Math.exp(-Math.pow((x/\" + str(model.alphas[0]) + \"), \" + str(model.betas[0]) + \"))\"\n",
    "\" helodf\""
   ]
  },
  {
   "cell_type": "code",
   "execution_count": 19,
   "metadata": {},
   "outputs": [],
   "source": [
    "a = p.Weibull.fit(x, how='MLE')"
   ]
  },
  {
   "cell_type": "code",
   "execution_count": 37,
   "metadata": {},
   "outputs": [
    {
     "name": "stderr",
     "output_type": "stream",
     "text": [
      "/Users/DerrynKnife1/Projects/surpyval/parametric.py:922: RuntimeWarning: divide by zero encountered in true_divide\n",
      "  return 1 - np.exp(-((x - gamma) / alpha)**beta)\n"
     ]
    },
    {
     "data": {
      "text/plain": [
       "(7.678989353700439, 1.7840012053178782, 39.813627182827275)"
      ]
     },
     "execution_count": 37,
     "metadata": {},
     "output_type": "execute_result"
    }
   ],
   "source": [
    "alpha = 23\n",
    "beta  = 5\n",
    "gamma = 10\n",
    "x = np.array([32, 33, 34, 35, 36, 37, 38, 39, 40, 42]) * 1.275\n",
    "n = np.array([10, 33, 81, 161, 224, 289, 336, 369, 383, 389])\n",
    "\n",
    "# Mr Weibull's measurements are cumulative, so let's calculate the obervations at each point.\n",
    "n = np.concatenate([[n[0]], np.diff(n)])\n",
    "xx = np.random.weibull(beta, size=20) * alpha + gamma\n",
    "a = p.Weibull3p.fit(x, n=n, how='MLE')\n",
    "a.params"
   ]
  },
  {
   "cell_type": "code",
   "execution_count": 38,
   "metadata": {},
   "outputs": [],
   "source": [
    "c = [\"S\", \"F\", \"S\", \"S\", \"F\", \"F\", \"F\", \"F\", \"F\", \"F\", \"F\", \"S\", \"S\", \"F\", \"F\", \"F\", \"F\", \"F\", \"S\", \"F\", \"F\", \"S\", \"F\", \"F\", \"F\", \"F\"]\n",
    "c = np.array(', '.join(c).replace('S', '1').replace('F', '0').split(', ')).astype(int)"
   ]
  },
  {
   "cell_type": "code",
   "execution_count": 1,
   "metadata": {},
   "outputs": [
    {
     "ename": "NameError",
     "evalue": "name 'np' is not defined",
     "output_type": "error",
     "traceback": [
      "\u001b[0;31m---------------------------------------------------------------------------\u001b[0m",
      "\u001b[0;31mNameError\u001b[0m                                 Traceback (most recent call last)",
      "\u001b[0;32m<ipython-input-1-f4f50abc6a5f>\u001b[0m in \u001b[0;36m<module>\u001b[0;34m\u001b[0m\n\u001b[1;32m      1\u001b[0m \u001b[0mx\u001b[0m \u001b[0;34m=\u001b[0m \u001b[0;34m[\u001b[0m\u001b[0;36m535\u001b[0m\u001b[0;34m,\u001b[0m \u001b[0;36m948\u001b[0m\u001b[0;34m,\u001b[0m \u001b[0;36m1069\u001b[0m\u001b[0;34m,\u001b[0m \u001b[0;36m1171\u001b[0m\u001b[0;34m,\u001b[0m \u001b[0;36m1207\u001b[0m\u001b[0;34m,\u001b[0m \u001b[0;36m1401\u001b[0m\u001b[0;34m,\u001b[0m \u001b[0;36m1465\u001b[0m\u001b[0;34m,\u001b[0m \u001b[0;36m1601\u001b[0m\u001b[0;34m,\u001b[0m \u001b[0;36m1780\u001b[0m\u001b[0;34m,\u001b[0m \u001b[0;36m1852\u001b[0m\u001b[0;34m,\u001b[0m \u001b[0;36m1864\u001b[0m\u001b[0;34m,\u001b[0m \u001b[0;36m1934\u001b[0m\u001b[0;34m,\u001b[0m \u001b[0;36m1958\u001b[0m\u001b[0;34m,\u001b[0m \u001b[0;36m1977\u001b[0m\u001b[0;34m,\u001b[0m \u001b[0;36m2013\u001b[0m\u001b[0;34m,\u001b[0m \u001b[0;36m2152\u001b[0m\u001b[0;34m,\u001b[0m \u001b[0;36m2188\u001b[0m\u001b[0;34m,\u001b[0m \u001b[0;36m2313\u001b[0m\u001b[0;34m,\u001b[0m \u001b[0;36m2397\u001b[0m\u001b[0;34m,\u001b[0m \u001b[0;36m2428\u001b[0m\u001b[0;34m,\u001b[0m \u001b[0;36m2478\u001b[0m\u001b[0;34m,\u001b[0m \u001b[0;36m2522\u001b[0m\u001b[0;34m,\u001b[0m \u001b[0;36m2530\u001b[0m\u001b[0;34m,\u001b[0m \u001b[0;36m2572\u001b[0m\u001b[0;34m,\u001b[0m \u001b[0;36m2603\u001b[0m\u001b[0;34m,\u001b[0m \u001b[0;36m3042\u001b[0m\u001b[0;34m]\u001b[0m\u001b[0;34m\u001b[0m\u001b[0;34m\u001b[0m\u001b[0m\n\u001b[0;32m----> 2\u001b[0;31m \u001b[0mx\u001b[0m \u001b[0;34m=\u001b[0m \u001b[0mnp\u001b[0m\u001b[0;34m.\u001b[0m\u001b[0marray\u001b[0m\u001b[0;34m(\u001b[0m\u001b[0mx\u001b[0m\u001b[0;34m)\u001b[0m\u001b[0;34m\u001b[0m\u001b[0;34m\u001b[0m\u001b[0m\n\u001b[0m",
      "\u001b[0;31mNameError\u001b[0m: name 'np' is not defined"
     ]
    }
   ],
   "source": [
    "x = [535, 948, 1069, 1171, 1207, 1401, 1465, 1601, 1780, 1852, 1864, 1934, 1958, 1977, 2013, 2152, 2188, 2313, 2397, 2428, 2478, 2522, 2530, 2572, 2603, 3042]\n",
    "x = np.array(x)"
   ]
  },
  {
   "cell_type": "code",
   "execution_count": 40,
   "metadata": {},
   "outputs": [],
   "source": [
    "N = 10000\n",
    "x = np.random.lognormal(0.4, 4, N)\n",
    "c = np.random.binomial(1, 0.05, N)"
   ]
  },
  {
   "cell_type": "code",
   "execution_count": 41,
   "metadata": {},
   "outputs": [],
   "source": [
    "x = np.array([15, 30, 30, 30, 40, 45, 45, 50, 60, 65, 65, 70, 75, 80, 80, 95, 105, 105, 105, 115, 120, 120, 135, 135, 170, 170])\n",
    "c = np.array([0, 0, 1, 1, 0, 0, 1, 0, 0, 0, 1, 0, 0, 0, 1, 0, 0, 1, 1, 0, 0, 1, 0, 1, 0, 1])"
   ]
  },
  {
   "cell_type": "code",
   "execution_count": 15,
   "metadata": {},
   "outputs": [
    {
     "data": {
      "text/plain": [
       "(-1.3120494574390644, 3.98948335061199)"
      ]
     },
     "execution_count": 15,
     "metadata": {},
     "output_type": "execute_result"
    }
   ],
   "source": [
    "mod.params"
   ]
  },
  {
   "cell_type": "code",
   "execution_count": 18,
   "metadata": {},
   "outputs": [
    {
     "data": {
      "text/plain": [
       "(-1.3120494574390644, 3.98948335061199)"
      ]
     },
     "execution_count": 18,
     "metadata": {},
     "output_type": "execute_result"
    }
   ],
   "source": [
    "mod.mu, mod.sigma"
   ]
  },
  {
   "cell_type": "code",
   "execution_count": 68,
   "metadata": {},
   "outputs": [],
   "source": [
    "norm_rvs = norm.rvs(10, 3, size=100)"
   ]
  },
  {
   "cell_type": "code",
   "execution_count": 69,
   "metadata": {},
   "outputs": [],
   "source": [
    "norm_mod = p.Normal.fit(norm_rvs)"
   ]
  },
  {
   "cell_type": "code",
   "execution_count": 70,
   "metadata": {},
   "outputs": [
    {
     "data": {
      "text/plain": [
       "(9.839056651025821, 3.168513348357181)"
      ]
     },
     "execution_count": 70,
     "metadata": {},
     "output_type": "execute_result"
    }
   ],
   "source": [
    "norm_mod.params"
   ]
  },
  {
   "cell_type": "code",
   "execution_count": 71,
   "metadata": {},
   "outputs": [],
   "source": [
    "mod = p.LogNormal.fit(np.exp(norm_rvs))"
   ]
  },
  {
   "cell_type": "code",
   "execution_count": 72,
   "metadata": {},
   "outputs": [
    {
     "data": {
      "text/plain": [
       "(9.839056651025821, 3.168513348357181)"
      ]
     },
     "execution_count": 72,
     "metadata": {},
     "output_type": "execute_result"
    }
   ],
   "source": [
    "mod.params"
   ]
  },
  {
   "cell_type": "code",
   "execution_count": null,
   "metadata": {},
   "outputs": [],
   "source": []
  }
 ],
 "metadata": {
  "kernelspec": {
   "display_name": "Python 3",
   "language": "python",
   "name": "python3"
  },
  "language_info": {
   "codemirror_mode": {
    "name": "ipython",
    "version": 3
   },
   "file_extension": ".py",
   "mimetype": "text/x-python",
   "name": "python",
   "nbconvert_exporter": "python",
   "pygments_lexer": "ipython3",
   "version": "3.7.4"
  }
 },
 "nbformat": 4,
 "nbformat_minor": 4
}
