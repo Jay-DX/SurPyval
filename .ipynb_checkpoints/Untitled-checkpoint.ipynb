{
 "cells": [
  {
   "cell_type": "code",
   "execution_count": 1,
   "metadata": {},
   "outputs": [],
   "source": [
    "import numpy as np\n",
    "import nonparametric as nonp\n",
    "import parametric as p"
   ]
  },
  {
   "cell_type": "code",
   "execution_count": 2,
   "metadata": {},
   "outputs": [],
   "source": [
    "x = np.array([1, 3, 3, 4, 5, 6, 7, 8]) + 30\n",
    "c = np.array([0, 0, 1, 0, 0, 1, 0, 0])\n",
    "n = np.array([1, 2, 2, 1, 5, 1, 2, 1])"
   ]
  },
  {
   "cell_type": "code",
   "execution_count": 3,
   "metadata": {},
   "outputs": [
    {
     "data": {
      "text/plain": [
       "array([31, 33, 33, 34, 35, 36, 37, 38])"
      ]
     },
     "execution_count": 3,
     "metadata": {},
     "output_type": "execute_result"
    }
   ],
   "source": [
    "x"
   ]
  },
  {
   "cell_type": "code",
   "execution_count": 4,
   "metadata": {},
   "outputs": [
    {
     "data": {
      "text/plain": [
       "15"
      ]
     },
     "execution_count": 4,
     "metadata": {},
     "output_type": "execute_result"
    }
   ],
   "source": [
    "n.sum()"
   ]
  },
  {
   "cell_type": "code",
   "execution_count": 5,
   "metadata": {},
   "outputs": [
    {
     "name": "stderr",
     "output_type": "stream",
     "text": [
      "/Users/DerrynKnife1/Projects/surpyval/parametric.py:963: RuntimeWarning: divide by zero encountered in true_divide\n",
      "  return 1 - np.exp(-((x - gamma) / alpha)**beta)\n"
     ]
    },
    {
     "data": {
      "text/plain": [
       "(7.678989353700439, 1.7840012053178782, 39.813627182827275)"
      ]
     },
     "execution_count": 5,
     "metadata": {},
     "output_type": "execute_result"
    }
   ],
   "source": [
    "alpha = 23\n",
    "beta  = 5\n",
    "gamma = 10\n",
    "x = np.array([32, 33, 34, 35, 36, 37, 38, 39, 40, 42]) * 1.275\n",
    "n = np.array([10, 33, 81, 161, 224, 289, 336, 369, 383, 389])\n",
    "\n",
    "# Mr Weibull's measurements are cumulative, so let's calculate the obervations at each point.\n",
    "n = np.concatenate([[n[0]], np.diff(n)])\n",
    "xx = np.random.weibull(beta, size=20) * alpha + gamma\n",
    "a = p.Weibull3p.fit(x, n=n, how='MLE')\n",
    "a.params"
   ]
  }
 ],
 "metadata": {
  "kernelspec": {
   "display_name": "Python 3",
   "language": "python",
   "name": "python3"
  },
  "language_info": {
   "codemirror_mode": {
    "name": "ipython",
    "version": 3
   },
   "file_extension": ".py",
   "mimetype": "text/x-python",
   "name": "python",
   "nbconvert_exporter": "python",
   "pygments_lexer": "ipython3",
   "version": "3.6.9"
  }
 },
 "nbformat": 4,
 "nbformat_minor": 4
}
