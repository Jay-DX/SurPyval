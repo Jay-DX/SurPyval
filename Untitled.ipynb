{
 "cells": [
  {
   "cell_type": "code",
   "execution_count": 1,
   "metadata": {},
   "outputs": [
    {
     "ename": "SyntaxError",
     "evalue": "invalid syntax (parametric.py, line 8)",
     "output_type": "error",
     "traceback": [
      "Traceback \u001b[0;36m(most recent call last)\u001b[0m:\n",
      "  File \u001b[1;32m\"/anaconda3/lib/python3.6/site-packages/IPython/core/interactiveshell.py\"\u001b[0m, line \u001b[1;32m3326\u001b[0m, in \u001b[1;35mrun_code\u001b[0m\n    exec(code_obj, self.user_global_ns, self.user_ns)\n",
      "\u001b[0;36m  File \u001b[0;32m\"<ipython-input-2-d1b03f6370bf>\"\u001b[0;36m, line \u001b[0;32m3\u001b[0;36m, in \u001b[0;35m<module>\u001b[0;36m\u001b[0m\n\u001b[0;31m    import parametric as p\u001b[0m\n",
      "\u001b[0;36m  File \u001b[0;32m\"/Users/DerrynKnife1/Projects/Reliafy/SurPyval/parametric.py\"\u001b[0;36m, line \u001b[0;32m8\u001b[0m\n\u001b[0;31m    import .nonparametric as nonp\u001b[0m\n\u001b[0m           ^\u001b[0m\n\u001b[0;31mSyntaxError\u001b[0m\u001b[0;31m:\u001b[0m invalid syntax\n"
     ]
    }
   ],
   "source": [
    "import numpy as np\n",
    "import nonparametric as nonp\n",
    "import parametric as p"
   ]
  },
  {
   "cell_type": "code",
   "execution_count": 2,
   "metadata": {},
   "outputs": [],
   "source": [
    "beta = 0.5\n",
    "alpha = 100000\n",
    "x = np.random.weibull(beta, 100) * alpha"
   ]
  },
  {
   "cell_type": "code",
   "execution_count": 3,
   "metadata": {},
   "outputs": [],
   "source": [
    "a = p.Weibull.fit(x, how='MLE')"
   ]
  },
  {
   "cell_type": "code",
   "execution_count": 4,
   "metadata": {},
   "outputs": [
    {
     "data": {
      "text/plain": [
       "(80944.0557966193, 0.4493008237461101)"
      ]
     },
     "execution_count": 4,
     "metadata": {},
     "output_type": "execute_result"
    }
   ],
   "source": [
    "a.params"
   ]
  },
  {
   "cell_type": "code",
   "execution_count": 5,
   "metadata": {},
   "outputs": [
    {
     "name": "stderr",
     "output_type": "stream",
     "text": [
      "/Users/DerrynKnife1/Projects/surpyval/parametric.py:923: RuntimeWarning: divide by zero encountered in true_divide\n",
      "  return 1 - np.exp(-((x - gamma) / alpha)**beta)\n"
     ]
    },
    {
     "data": {
      "text/plain": [
       "(7.678989353700439, 1.7840012053178782, 39.813627182827275)"
      ]
     },
     "execution_count": 5,
     "metadata": {},
     "output_type": "execute_result"
    }
   ],
   "source": [
    "alpha = 23\n",
    "beta  = 5\n",
    "gamma = 10\n",
    "x = np.array([32, 33, 34, 35, 36, 37, 38, 39, 40, 42]) * 1.275\n",
    "n = np.array([10, 33, 81, 161, 224, 289, 336, 369, 383, 389])\n",
    "\n",
    "# Mr Weibull's measurements are cumulative, so let's calculate the obervations at each point.\n",
    "n = np.concatenate([[n[0]], np.diff(n)])\n",
    "xx = np.random.weibull(beta, size=20) * alpha + gamma\n",
    "a = p.Weibull3p.fit(x, n=n, how='MLE')\n",
    "a.params"
   ]
  },
  {
   "cell_type": "code",
   "execution_count": 46,
   "metadata": {},
   "outputs": [],
   "source": [
    "c = [\"S\", \"F\", \"S\", \"S\", \"F\", \"F\", \"F\", \"F\", \"F\", \"F\", \"F\", \"S\", \"S\", \"F\", \"F\", \"F\", \"F\", \"F\", \"S\", \"F\", \"F\", \"S\", \"F\", \"F\", \"F\", \"F\"]\n",
    "c = np.array(', '.join(c).replace('S', '1').replace('F', '0').split(', ')).astype(int)"
   ]
  },
  {
   "cell_type": "code",
   "execution_count": 47,
   "metadata": {},
   "outputs": [],
   "source": [
    "x = [535, 948, 1069, 1171, 1207, 1401, 1465, 1601, 1780, 1852, 1864, 1934, 1958, 1977, 2013, 2152, 2188, 2313, 2397, 2428, 2478, 2522, 2530, 2572, 2603, 3042]\n",
    "x = np.array(x)"
   ]
  },
  {
   "cell_type": "code",
   "execution_count": 62,
   "metadata": {},
   "outputs": [],
   "source": [
    "N = 10000\n",
    "x = np.random.lognormal(0.4, 4, N)\n",
    "c = np.random.binomial(1, 0.05, N)"
   ]
  },
  {
   "cell_type": "code",
   "execution_count": 65,
   "metadata": {},
   "outputs": [],
   "source": [
    "x = np.array([15, 30, 30, 30, 40, 45, 45, 50, 60, 65, 65, 70, 75, 80, 80, 95, 105, 105,\n",
    "             105, 115, 120, 120, 135, 135, 170, 170])\n",
    "c = np.array([0, 0, 1, 1, 0, 0, 1, 0, 0, 0, 1, 0, 0, 0, 1, 0, 0, 1, 1, 0, 0, 1, 0, 1, 0, 1])"
   ]
  },
  {
   "cell_type": "code",
   "execution_count": 66,
   "metadata": {},
   "outputs": [
    {
     "name": "stdout",
     "output_type": "stream",
     "text": [
      "(4.262186365349847, 0.5969506564960049)\n"
     ]
    }
   ],
   "source": [
    "a = p.LogNormal.fit(x, c=c, how='MLE')"
   ]
  },
  {
   "cell_type": "code",
   "execution_count": 68,
   "metadata": {},
   "outputs": [
    {
     "data": {
      "text/plain": [
       "      fun: 23.205033454297837\n",
       " hess_inv: array([[0.02526412, 0.00535277],\n",
       "       [0.00535277, 0.01639349]])\n",
       "      jac: array([0., 0.])\n",
       "  message: 'Optimization terminated successfully.'\n",
       "     nfev: 48\n",
       "      nit: 8\n",
       "     njev: 12\n",
       "   status: 0\n",
       "  success: True\n",
       "        x: array([4.53465301, 0.70976219])"
      ]
     },
     "execution_count": 68,
     "metadata": {},
     "output_type": "execute_result"
    }
   ],
   "source": [
    "a.res"
   ]
  },
  {
   "cell_type": "code",
   "execution_count": 11,
   "metadata": {},
   "outputs": [
    {
     "data": {
      "text/plain": [
       "(1923.076923076923, 596.0580071846985)"
      ]
     },
     "execution_count": 11,
     "metadata": {},
     "output_type": "execute_result"
    }
   ],
   "source": [
    "norm_model.params"
   ]
  },
  {
   "cell_type": "code",
   "execution_count": 12,
   "metadata": {},
   "outputs": [],
   "source": []
  },
  {
   "cell_type": "code",
   "execution_count": 13,
   "metadata": {},
   "outputs": [
    {
     "data": {
      "text/plain": [
       "(0.34801963385952633, 3.975455901200701)"
      ]
     },
     "execution_count": 13,
     "metadata": {},
     "output_type": "execute_result"
    }
   ],
   "source": [
    "np.mean(np.log(x)), np.std(np.log(x))"
   ]
  },
  {
   "cell_type": "code",
   "execution_count": 14,
   "metadata": {},
   "outputs": [
    {
     "name": "stdout",
     "output_type": "stream",
     "text": [
      "(0.34801963385952633, 3.975455901200701)\n"
     ]
    }
   ],
   "source": [
    "a = p.Normal.fit(np.log(x))"
   ]
  },
  {
   "cell_type": "code",
   "execution_count": 15,
   "metadata": {},
   "outputs": [
    {
     "data": {
      "text/plain": [
       "array([-0.80308853,  0.74072803, -2.64440415, ...,  4.66778235,\n",
       "        3.95620155, -1.86580491])"
      ]
     },
     "execution_count": 15,
     "metadata": {},
     "output_type": "execute_result"
    }
   ],
   "source": [
    "np.log(x)"
   ]
  },
  {
   "cell_type": "code",
   "execution_count": null,
   "metadata": {},
   "outputs": [],
   "source": []
  }
 ],
 "metadata": {
  "kernelspec": {
   "display_name": "Python 3",
   "language": "python",
   "name": "python3"
  },
  "language_info": {
   "codemirror_mode": {
    "name": "ipython",
    "version": 3
   },
   "file_extension": ".py",
   "mimetype": "text/x-python",
   "name": "python",
   "nbconvert_exporter": "python",
   "pygments_lexer": "ipython3",
   "version": "3.6.9"
  }
 },
 "nbformat": 4,
 "nbformat_minor": 4
}
